{
  "nbformat": 4,
  "nbformat_minor": 0,
  "metadata": {
    "colab": {
      "provenance": [],
      "authorship_tag": "ABX9TyNf7Ctrou48yyjCB3GN9Lm6",
      "include_colab_link": true
    },
    "kernelspec": {
      "name": "python3",
      "display_name": "Python 3"
    },
    "language_info": {
      "name": "python"
    }
  },
  "cells": [
    {
      "cell_type": "markdown",
      "metadata": {
        "id": "view-in-github",
        "colab_type": "text"
      },
      "source": [
        "<a href=\"https://colab.research.google.com/github/silvi3110/sis-252-inteligencia-artificial/blob/main/Ejercicios_Deep_Learning_5.ipynb\" target=\"_parent\"><img src=\"https://colab.research.google.com/assets/colab-badge.svg\" alt=\"Open In Colab\"/></a>"
      ]
    },
    {
      "cell_type": "code",
      "execution_count": null,
      "metadata": {
        "id": "12eWYtJZ4zE5"
      },
      "outputs": [],
      "source": [
        "import os\n",
        "import numpy as np\n",
        "import pandas as pd\n",
        "import tensorflow as tf\n",
        "\n",
        "from sklearn.model_selection import train_test_split\n",
        "from sklearn.preprocessing import OneHotEncoder, StandardScaler, LabelEncoder\n",
        "from sklearn.compose import ColumnTransformer\n",
        "from sklearn.metrics import classification_report, confusion_matrix, roc_auc_score"
      ]
    },
    {
      "cell_type": "code",
      "source": [
        "SEED = 42\n",
        "os.environ[\"PYTHONHASHSEED\"] = str(SEED)\n",
        "np.random.seed(SEED)\n",
        "tf.random.set_seed(SEED)\n",
        "print(\"Tensorflow:\", tf.__version__)"
      ],
      "metadata": {
        "colab": {
          "base_uri": "https://localhost:8080/"
        },
        "id": "piIeHTcg7W37",
        "outputId": "afb838c4-aa2e-4d41-eab9-4f3c906a0732"
      },
      "execution_count": 30,
      "outputs": [
        {
          "output_type": "stream",
          "name": "stdout",
          "text": [
            "Tensorflow: 2.19.0\n"
          ]
        }
      ]
    },
    {
      "cell_type": "code",
      "source": [
        "dataset = pd.read_csv(\"Churn_Modelling.csv\")\n",
        "X = dataset.iloc[:, 3:-1].copy()\n",
        "y = dataset.iloc[:, -1].values\n",
        "print(\"Shapes:\", X.shape, y.shape)"
      ],
      "metadata": {
        "colab": {
          "base_uri": "https://localhost:8080/"
        },
        "id": "f5I9R627-bgQ",
        "outputId": "694279bf-157d-4f38-c44d-e9f3b331ae3a"
      },
      "execution_count": 31,
      "outputs": [
        {
          "output_type": "stream",
          "name": "stdout",
          "text": [
            "Shapes: (10000, 10) (10000,)\n"
          ]
        }
      ]
    },
    {
      "cell_type": "code",
      "source": [
        "le_gender = LabelEncoder()\n",
        "X.loc[:, X.columns[2]] = le_gender.fit_transform(X.iloc[:, 2])\n",
        "ct = ColumnTransformer(\n",
        "    transformers=[(\"geo_ohe\", OneHotEncoder(handle_unknown=\"ignore\"), [1])],\n",
        "    remainder=\"passthrough\"\n",
        ")\n",
        "X_ohe = ct.fit_transform(X)\n",
        "X_ohe = np.asarray(X_ohe).astype(\"float32\")"
      ],
      "metadata": {
        "id": "dyKrkXb_AdP9"
      },
      "execution_count": 32,
      "outputs": []
    },
    {
      "cell_type": "code",
      "source": [
        "X_train, X_test, y_train, y_test = train_test_split(\n",
        "    X_ohe, y, test_size=0.2, random_state=SEED, stratify=y\n",
        ")\n",
        "\n",
        "sc = StandardScaler(with_mean=False)\n",
        "X_train = sc.fit_transform(X_train).astype(\"float32\")\n",
        "X_test = sc.transform(X_test).astype(\"float32\")"
      ],
      "metadata": {
        "id": "eH-zzvjmEHVa"
      },
      "execution_count": 33,
      "outputs": []
    },
    {
      "cell_type": "code",
      "source": [
        "from tensorflow.keras import layers, models, callbacks\n",
        "def build_model(input_dim):\n",
        "  model = models.Sequential([\n",
        "      layers.Dense(16, activation=\"relu\", input_shape=(input_dim,)),\n",
        "      layers.Dense(16, activation=\"relu\"),\n",
        "      layers.Dense(1, activation=\"sigmoid\")\n",
        "  ])\n",
        "  model.compile(\n",
        "      optimizer=\"adam\",\n",
        "      loss=\"binary_crossentropy\",\n",
        "      metrics=[\"accuracy\", tf.keras.metrics.AUC(name=\"auc\")]\n",
        "  )\n",
        "  return model\n",
        "ann = build_model(input_dim=X_train.shape[1])\n",
        "ann.summary()"
      ],
      "metadata": {
        "colab": {
          "base_uri": "https://localhost:8080/",
          "height": 281
        },
        "id": "K6jVhHQ7EitP",
        "outputId": "ec43af51-dfc2-4233-ea75-0a88775b2dfd"
      },
      "execution_count": 34,
      "outputs": [
        {
          "output_type": "stream",
          "name": "stderr",
          "text": [
            "/usr/local/lib/python3.12/dist-packages/keras/src/layers/core/dense.py:93: UserWarning: Do not pass an `input_shape`/`input_dim` argument to a layer. When using Sequential models, prefer using an `Input(shape)` object as the first layer in the model instead.\n",
            "  super().__init__(activity_regularizer=activity_regularizer, **kwargs)\n"
          ]
        },
        {
          "output_type": "display_data",
          "data": {
            "text/plain": [
              "\u001b[1mModel: \"sequential_5\"\u001b[0m\n"
            ],
            "text/html": [
              "<pre style=\"white-space:pre;overflow-x:auto;line-height:normal;font-family:Menlo,'DejaVu Sans Mono',consolas,'Courier New',monospace\"><span style=\"font-weight: bold\">Model: \"sequential_5\"</span>\n",
              "</pre>\n"
            ]
          },
          "metadata": {}
        },
        {
          "output_type": "display_data",
          "data": {
            "text/plain": [
              "┏━━━━━━━━━━━━━━━━━━━━━━━━━━━━━━━━━┳━━━━━━━━━━━━━━━━━━━━━━━━┳━━━━━━━━━━━━━━━┓\n",
              "┃\u001b[1m \u001b[0m\u001b[1mLayer (type)                   \u001b[0m\u001b[1m \u001b[0m┃\u001b[1m \u001b[0m\u001b[1mOutput Shape          \u001b[0m\u001b[1m \u001b[0m┃\u001b[1m \u001b[0m\u001b[1m      Param #\u001b[0m\u001b[1m \u001b[0m┃\n",
              "┡━━━━━━━━━━━━━━━━━━━━━━━━━━━━━━━━━╇━━━━━━━━━━━━━━━━━━━━━━━━╇━━━━━━━━━━━━━━━┩\n",
              "│ dense_15 (\u001b[38;5;33mDense\u001b[0m)                │ (\u001b[38;5;45mNone\u001b[0m, \u001b[38;5;34m16\u001b[0m)             │           \u001b[38;5;34m208\u001b[0m │\n",
              "├─────────────────────────────────┼────────────────────────┼───────────────┤\n",
              "│ dense_16 (\u001b[38;5;33mDense\u001b[0m)                │ (\u001b[38;5;45mNone\u001b[0m, \u001b[38;5;34m16\u001b[0m)             │           \u001b[38;5;34m272\u001b[0m │\n",
              "├─────────────────────────────────┼────────────────────────┼───────────────┤\n",
              "│ dense_17 (\u001b[38;5;33mDense\u001b[0m)                │ (\u001b[38;5;45mNone\u001b[0m, \u001b[38;5;34m1\u001b[0m)              │            \u001b[38;5;34m17\u001b[0m │\n",
              "└─────────────────────────────────┴────────────────────────┴───────────────┘\n"
            ],
            "text/html": [
              "<pre style=\"white-space:pre;overflow-x:auto;line-height:normal;font-family:Menlo,'DejaVu Sans Mono',consolas,'Courier New',monospace\">┏━━━━━━━━━━━━━━━━━━━━━━━━━━━━━━━━━┳━━━━━━━━━━━━━━━━━━━━━━━━┳━━━━━━━━━━━━━━━┓\n",
              "┃<span style=\"font-weight: bold\"> Layer (type)                    </span>┃<span style=\"font-weight: bold\"> Output Shape           </span>┃<span style=\"font-weight: bold\">       Param # </span>┃\n",
              "┡━━━━━━━━━━━━━━━━━━━━━━━━━━━━━━━━━╇━━━━━━━━━━━━━━━━━━━━━━━━╇━━━━━━━━━━━━━━━┩\n",
              "│ dense_15 (<span style=\"color: #0087ff; text-decoration-color: #0087ff\">Dense</span>)                │ (<span style=\"color: #00d7ff; text-decoration-color: #00d7ff\">None</span>, <span style=\"color: #00af00; text-decoration-color: #00af00\">16</span>)             │           <span style=\"color: #00af00; text-decoration-color: #00af00\">208</span> │\n",
              "├─────────────────────────────────┼────────────────────────┼───────────────┤\n",
              "│ dense_16 (<span style=\"color: #0087ff; text-decoration-color: #0087ff\">Dense</span>)                │ (<span style=\"color: #00d7ff; text-decoration-color: #00d7ff\">None</span>, <span style=\"color: #00af00; text-decoration-color: #00af00\">16</span>)             │           <span style=\"color: #00af00; text-decoration-color: #00af00\">272</span> │\n",
              "├─────────────────────────────────┼────────────────────────┼───────────────┤\n",
              "│ dense_17 (<span style=\"color: #0087ff; text-decoration-color: #0087ff\">Dense</span>)                │ (<span style=\"color: #00d7ff; text-decoration-color: #00d7ff\">None</span>, <span style=\"color: #00af00; text-decoration-color: #00af00\">1</span>)              │            <span style=\"color: #00af00; text-decoration-color: #00af00\">17</span> │\n",
              "└─────────────────────────────────┴────────────────────────┴───────────────┘\n",
              "</pre>\n"
            ]
          },
          "metadata": {}
        },
        {
          "output_type": "display_data",
          "data": {
            "text/plain": [
              "\u001b[1m Total params: \u001b[0m\u001b[38;5;34m497\u001b[0m (1.94 KB)\n"
            ],
            "text/html": [
              "<pre style=\"white-space:pre;overflow-x:auto;line-height:normal;font-family:Menlo,'DejaVu Sans Mono',consolas,'Courier New',monospace\"><span style=\"font-weight: bold\"> Total params: </span><span style=\"color: #00af00; text-decoration-color: #00af00\">497</span> (1.94 KB)\n",
              "</pre>\n"
            ]
          },
          "metadata": {}
        },
        {
          "output_type": "display_data",
          "data": {
            "text/plain": [
              "\u001b[1m Trainable params: \u001b[0m\u001b[38;5;34m497\u001b[0m (1.94 KB)\n"
            ],
            "text/html": [
              "<pre style=\"white-space:pre;overflow-x:auto;line-height:normal;font-family:Menlo,'DejaVu Sans Mono',consolas,'Courier New',monospace\"><span style=\"font-weight: bold\"> Trainable params: </span><span style=\"color: #00af00; text-decoration-color: #00af00\">497</span> (1.94 KB)\n",
              "</pre>\n"
            ]
          },
          "metadata": {}
        },
        {
          "output_type": "display_data",
          "data": {
            "text/plain": [
              "\u001b[1m Non-trainable params: \u001b[0m\u001b[38;5;34m0\u001b[0m (0.00 B)\n"
            ],
            "text/html": [
              "<pre style=\"white-space:pre;overflow-x:auto;line-height:normal;font-family:Menlo,'DejaVu Sans Mono',consolas,'Courier New',monospace\"><span style=\"font-weight: bold\"> Non-trainable params: </span><span style=\"color: #00af00; text-decoration-color: #00af00\">0</span> (0.00 B)\n",
              "</pre>\n"
            ]
          },
          "metadata": {}
        }
      ]
    },
    {
      "cell_type": "code",
      "source": [
        "cb = [\n",
        "    callbacks.EarlyStopping(patience=10, restore_best_weights=True, monitor=\"val_auc\", mode=\"max\"),\n",
        "    callbacks.ModelCheckpoint(\"best_ann.keras\", monitor=\"val_auc\", mode=\"max\", save_best_only=True),\n",
        "    callbacks.ReduceLROnPlateau(monitor=\"val_loss\", patience=5, factor=0.5)\n",
        "]"
      ],
      "metadata": {
        "id": "1MFzqFnZHnAY"
      },
      "execution_count": 35,
      "outputs": []
    },
    {
      "cell_type": "code",
      "source": [
        "hist = ann.fit(\n",
        "    X_train, y_train,\n",
        "    validation_split=0.2,\n",
        "    epochs=200,\n",
        "    batch_size=32,\n",
        "    callbacks=cb,\n",
        "    verbose=1\n",
        ")"
      ],
      "metadata": {
        "colab": {
          "base_uri": "https://localhost:8080/"
        },
        "id": "6SbINQkDJh75",
        "outputId": "2d1e46f0-08a4-4468-b9ee-0db8564af367"
      },
      "execution_count": 36,
      "outputs": [
        {
          "output_type": "stream",
          "name": "stdout",
          "text": [
            "Epoch 1/200\n",
            "\u001b[1m200/200\u001b[0m \u001b[32m━━━━━━━━━━━━━━━━━━━━\u001b[0m\u001b[37m\u001b[0m \u001b[1m4s\u001b[0m 11ms/step - accuracy: 0.7466 - auc: 0.6409 - loss: 0.5322 - val_accuracy: 0.8037 - val_auc: 0.7311 - val_loss: 0.4451 - learning_rate: 0.0010\n",
            "Epoch 2/200\n",
            "\u001b[1m200/200\u001b[0m \u001b[32m━━━━━━━━━━━━━━━━━━━━\u001b[0m\u001b[37m\u001b[0m \u001b[1m2s\u001b[0m 7ms/step - accuracy: 0.8062 - auc: 0.7499 - loss: 0.4436 - val_accuracy: 0.8112 - val_auc: 0.7414 - val_loss: 0.4402 - learning_rate: 0.0010\n",
            "Epoch 3/200\n",
            "\u001b[1m200/200\u001b[0m \u001b[32m━━━━━━━━━━━━━━━━━━━━\u001b[0m\u001b[37m\u001b[0m \u001b[1m2s\u001b[0m 3ms/step - accuracy: 0.8078 - auc: 0.7581 - loss: 0.4377 - val_accuracy: 0.8150 - val_auc: 0.7465 - val_loss: 0.4378 - learning_rate: 0.0010\n",
            "Epoch 4/200\n",
            "\u001b[1m200/200\u001b[0m \u001b[32m━━━━━━━━━━━━━━━━━━━━\u001b[0m\u001b[37m\u001b[0m \u001b[1m1s\u001b[0m 3ms/step - accuracy: 0.8110 - auc: 0.7637 - loss: 0.4348 - val_accuracy: 0.8181 - val_auc: 0.7518 - val_loss: 0.4339 - learning_rate: 0.0010\n",
            "Epoch 5/200\n",
            "\u001b[1m200/200\u001b[0m \u001b[32m━━━━━━━━━━━━━━━━━━━━\u001b[0m\u001b[37m\u001b[0m \u001b[1m1s\u001b[0m 4ms/step - accuracy: 0.8123 - auc: 0.7684 - loss: 0.4317 - val_accuracy: 0.8206 - val_auc: 0.7584 - val_loss: 0.4291 - learning_rate: 0.0010\n",
            "Epoch 6/200\n",
            "\u001b[1m200/200\u001b[0m \u001b[32m━━━━━━━━━━━━━━━━━━━━\u001b[0m\u001b[37m\u001b[0m \u001b[1m2s\u001b[0m 5ms/step - accuracy: 0.8155 - auc: 0.7740 - loss: 0.4280 - val_accuracy: 0.8231 - val_auc: 0.7684 - val_loss: 0.4229 - learning_rate: 0.0010\n",
            "Epoch 7/200\n",
            "\u001b[1m200/200\u001b[0m \u001b[32m━━━━━━━━━━━━━━━━━━━━\u001b[0m\u001b[37m\u001b[0m \u001b[1m1s\u001b[0m 3ms/step - accuracy: 0.8174 - auc: 0.7829 - loss: 0.4223 - val_accuracy: 0.8256 - val_auc: 0.7852 - val_loss: 0.4112 - learning_rate: 0.0010\n",
            "Epoch 8/200\n",
            "\u001b[1m200/200\u001b[0m \u001b[32m━━━━━━━━━━━━━━━━━━━━\u001b[0m\u001b[37m\u001b[0m \u001b[1m1s\u001b[0m 3ms/step - accuracy: 0.8213 - auc: 0.7981 - loss: 0.4118 - val_accuracy: 0.8313 - val_auc: 0.8026 - val_loss: 0.3980 - learning_rate: 0.0010\n",
            "Epoch 9/200\n",
            "\u001b[1m200/200\u001b[0m \u001b[32m━━━━━━━━━━━━━━━━━━━━\u001b[0m\u001b[37m\u001b[0m \u001b[1m1s\u001b[0m 3ms/step - accuracy: 0.8264 - auc: 0.8113 - loss: 0.4020 - val_accuracy: 0.8400 - val_auc: 0.8148 - val_loss: 0.3881 - learning_rate: 0.0010\n",
            "Epoch 10/200\n",
            "\u001b[1m200/200\u001b[0m \u001b[32m━━━━━━━━━━━━━━━━━━━━\u001b[0m\u001b[37m\u001b[0m \u001b[1m1s\u001b[0m 3ms/step - accuracy: 0.8318 - auc: 0.8211 - loss: 0.3938 - val_accuracy: 0.8406 - val_auc: 0.8231 - val_loss: 0.3802 - learning_rate: 0.0010\n",
            "Epoch 11/200\n",
            "\u001b[1m200/200\u001b[0m \u001b[32m━━━━━━━━━━━━━━━━━━━━\u001b[0m\u001b[37m\u001b[0m \u001b[1m1s\u001b[0m 3ms/step - accuracy: 0.8323 - auc: 0.8274 - loss: 0.3877 - val_accuracy: 0.8431 - val_auc: 0.8287 - val_loss: 0.3741 - learning_rate: 0.0010\n",
            "Epoch 12/200\n",
            "\u001b[1m200/200\u001b[0m \u001b[32m━━━━━━━━━━━━━━━━━━━━\u001b[0m\u001b[37m\u001b[0m \u001b[1m1s\u001b[0m 3ms/step - accuracy: 0.8361 - auc: 0.8324 - loss: 0.3828 - val_accuracy: 0.8438 - val_auc: 0.8329 - val_loss: 0.3697 - learning_rate: 0.0010\n",
            "Epoch 13/200\n",
            "\u001b[1m200/200\u001b[0m \u001b[32m━━━━━━━━━━━━━━━━━━━━\u001b[0m\u001b[37m\u001b[0m \u001b[1m1s\u001b[0m 3ms/step - accuracy: 0.8371 - auc: 0.8358 - loss: 0.3791 - val_accuracy: 0.8462 - val_auc: 0.8363 - val_loss: 0.3661 - learning_rate: 0.0010\n",
            "Epoch 14/200\n",
            "\u001b[1m200/200\u001b[0m \u001b[32m━━━━━━━━━━━━━━━━━━━━\u001b[0m\u001b[37m\u001b[0m \u001b[1m1s\u001b[0m 3ms/step - accuracy: 0.8396 - auc: 0.8387 - loss: 0.3761 - val_accuracy: 0.8475 - val_auc: 0.8385 - val_loss: 0.3632 - learning_rate: 0.0010\n",
            "Epoch 15/200\n",
            "\u001b[1m200/200\u001b[0m \u001b[32m━━━━━━━━━━━━━━━━━━━━\u001b[0m\u001b[37m\u001b[0m \u001b[1m1s\u001b[0m 3ms/step - accuracy: 0.8426 - auc: 0.8408 - loss: 0.3735 - val_accuracy: 0.8487 - val_auc: 0.8407 - val_loss: 0.3605 - learning_rate: 0.0010\n",
            "Epoch 16/200\n",
            "\u001b[1m200/200\u001b[0m \u001b[32m━━━━━━━━━━━━━━━━━━━━\u001b[0m\u001b[37m\u001b[0m \u001b[1m1s\u001b[0m 3ms/step - accuracy: 0.8424 - auc: 0.8427 - loss: 0.3713 - val_accuracy: 0.8525 - val_auc: 0.8428 - val_loss: 0.3583 - learning_rate: 0.0010\n",
            "Epoch 17/200\n",
            "\u001b[1m200/200\u001b[0m \u001b[32m━━━━━━━━━━━━━━━━━━━━\u001b[0m\u001b[37m\u001b[0m \u001b[1m1s\u001b[0m 3ms/step - accuracy: 0.8445 - auc: 0.8444 - loss: 0.3693 - val_accuracy: 0.8531 - val_auc: 0.8445 - val_loss: 0.3566 - learning_rate: 0.0010\n",
            "Epoch 18/200\n",
            "\u001b[1m200/200\u001b[0m \u001b[32m━━━━━━━━━━━━━━━━━━━━\u001b[0m\u001b[37m\u001b[0m \u001b[1m1s\u001b[0m 3ms/step - accuracy: 0.8446 - auc: 0.8458 - loss: 0.3677 - val_accuracy: 0.8519 - val_auc: 0.8454 - val_loss: 0.3551 - learning_rate: 0.0010\n",
            "Epoch 19/200\n",
            "\u001b[1m200/200\u001b[0m \u001b[32m━━━━━━━━━━━━━━━━━━━━\u001b[0m\u001b[37m\u001b[0m \u001b[1m1s\u001b[0m 3ms/step - accuracy: 0.8443 - auc: 0.8473 - loss: 0.3661 - val_accuracy: 0.8494 - val_auc: 0.8465 - val_loss: 0.3539 - learning_rate: 0.0010\n",
            "Epoch 20/200\n",
            "\u001b[1m200/200\u001b[0m \u001b[32m━━━━━━━━━━━━━━━━━━━━\u001b[0m\u001b[37m\u001b[0m \u001b[1m1s\u001b[0m 3ms/step - accuracy: 0.8456 - auc: 0.8487 - loss: 0.3645 - val_accuracy: 0.8494 - val_auc: 0.8471 - val_loss: 0.3530 - learning_rate: 0.0010\n",
            "Epoch 21/200\n",
            "\u001b[1m200/200\u001b[0m \u001b[32m━━━━━━━━━━━━━━━━━━━━\u001b[0m\u001b[37m\u001b[0m \u001b[1m1s\u001b[0m 5ms/step - accuracy: 0.8475 - auc: 0.8500 - loss: 0.3635 - val_accuracy: 0.8512 - val_auc: 0.8481 - val_loss: 0.3521 - learning_rate: 0.0010\n",
            "Epoch 22/200\n",
            "\u001b[1m200/200\u001b[0m \u001b[32m━━━━━━━━━━━━━━━━━━━━\u001b[0m\u001b[37m\u001b[0m \u001b[1m1s\u001b[0m 5ms/step - accuracy: 0.8479 - auc: 0.8509 - loss: 0.3625 - val_accuracy: 0.8519 - val_auc: 0.8490 - val_loss: 0.3511 - learning_rate: 0.0010\n",
            "Epoch 23/200\n",
            "\u001b[1m200/200\u001b[0m \u001b[32m━━━━━━━━━━━━━━━━━━━━\u001b[0m\u001b[37m\u001b[0m \u001b[1m1s\u001b[0m 3ms/step - accuracy: 0.8476 - auc: 0.8515 - loss: 0.3617 - val_accuracy: 0.8525 - val_auc: 0.8494 - val_loss: 0.3507 - learning_rate: 0.0010\n",
            "Epoch 24/200\n",
            "\u001b[1m200/200\u001b[0m \u001b[32m━━━━━━━━━━━━━━━━━━━━\u001b[0m\u001b[37m\u001b[0m \u001b[1m1s\u001b[0m 3ms/step - accuracy: 0.8480 - auc: 0.8524 - loss: 0.3605 - val_accuracy: 0.8512 - val_auc: 0.8498 - val_loss: 0.3499 - learning_rate: 0.0010\n",
            "Epoch 25/200\n",
            "\u001b[1m200/200\u001b[0m \u001b[32m━━━━━━━━━━━━━━━━━━━━\u001b[0m\u001b[37m\u001b[0m \u001b[1m1s\u001b[0m 3ms/step - accuracy: 0.8483 - auc: 0.8529 - loss: 0.3600 - val_accuracy: 0.8512 - val_auc: 0.8508 - val_loss: 0.3490 - learning_rate: 0.0010\n",
            "Epoch 26/200\n",
            "\u001b[1m200/200\u001b[0m \u001b[32m━━━━━━━━━━━━━━━━━━━━\u001b[0m\u001b[37m\u001b[0m \u001b[1m1s\u001b[0m 3ms/step - accuracy: 0.8488 - auc: 0.8536 - loss: 0.3593 - val_accuracy: 0.8525 - val_auc: 0.8518 - val_loss: 0.3483 - learning_rate: 0.0010\n",
            "Epoch 27/200\n",
            "\u001b[1m200/200\u001b[0m \u001b[32m━━━━━━━━━━━━━━━━━━━━\u001b[0m\u001b[37m\u001b[0m \u001b[1m1s\u001b[0m 3ms/step - accuracy: 0.8493 - auc: 0.8541 - loss: 0.3588 - val_accuracy: 0.8531 - val_auc: 0.8520 - val_loss: 0.3478 - learning_rate: 0.0010\n",
            "Epoch 28/200\n",
            "\u001b[1m200/200\u001b[0m \u001b[32m━━━━━━━━━━━━━━━━━━━━\u001b[0m\u001b[37m\u001b[0m \u001b[1m1s\u001b[0m 3ms/step - accuracy: 0.8494 - auc: 0.8547 - loss: 0.3580 - val_accuracy: 0.8525 - val_auc: 0.8526 - val_loss: 0.3474 - learning_rate: 0.0010\n",
            "Epoch 29/200\n",
            "\u001b[1m200/200\u001b[0m \u001b[32m━━━━━━━━━━━━━━━━━━━━\u001b[0m\u001b[37m\u001b[0m \u001b[1m1s\u001b[0m 3ms/step - accuracy: 0.8487 - auc: 0.8551 - loss: 0.3575 - val_accuracy: 0.8537 - val_auc: 0.8528 - val_loss: 0.3469 - learning_rate: 0.0010\n",
            "Epoch 30/200\n",
            "\u001b[1m200/200\u001b[0m \u001b[32m━━━━━━━━━━━━━━━━━━━━\u001b[0m\u001b[37m\u001b[0m \u001b[1m1s\u001b[0m 3ms/step - accuracy: 0.8496 - auc: 0.8559 - loss: 0.3569 - val_accuracy: 0.8531 - val_auc: 0.8530 - val_loss: 0.3465 - learning_rate: 0.0010\n",
            "Epoch 31/200\n",
            "\u001b[1m200/200\u001b[0m \u001b[32m━━━━━━━━━━━━━━━━━━━━\u001b[0m\u001b[37m\u001b[0m \u001b[1m1s\u001b[0m 3ms/step - accuracy: 0.8504 - auc: 0.8562 - loss: 0.3563 - val_accuracy: 0.8525 - val_auc: 0.8537 - val_loss: 0.3456 - learning_rate: 0.0010\n",
            "Epoch 32/200\n",
            "\u001b[1m200/200\u001b[0m \u001b[32m━━━━━━━━━━━━━━━━━━━━\u001b[0m\u001b[37m\u001b[0m \u001b[1m1s\u001b[0m 3ms/step - accuracy: 0.8503 - auc: 0.8561 - loss: 0.3560 - val_accuracy: 0.8525 - val_auc: 0.8543 - val_loss: 0.3449 - learning_rate: 0.0010\n",
            "Epoch 33/200\n",
            "\u001b[1m200/200\u001b[0m \u001b[32m━━━━━━━━━━━━━━━━━━━━\u001b[0m\u001b[37m\u001b[0m \u001b[1m1s\u001b[0m 3ms/step - accuracy: 0.8512 - auc: 0.8567 - loss: 0.3556 - val_accuracy: 0.8531 - val_auc: 0.8549 - val_loss: 0.3444 - learning_rate: 0.0010\n",
            "Epoch 34/200\n",
            "\u001b[1m200/200\u001b[0m \u001b[32m━━━━━━━━━━━━━━━━━━━━\u001b[0m\u001b[37m\u001b[0m \u001b[1m1s\u001b[0m 4ms/step - accuracy: 0.8511 - auc: 0.8570 - loss: 0.3552 - val_accuracy: 0.8531 - val_auc: 0.8556 - val_loss: 0.3437 - learning_rate: 0.0010\n",
            "Epoch 35/200\n",
            "\u001b[1m200/200\u001b[0m \u001b[32m━━━━━━━━━━━━━━━━━━━━\u001b[0m\u001b[37m\u001b[0m \u001b[1m2s\u001b[0m 6ms/step - accuracy: 0.8508 - auc: 0.8574 - loss: 0.3546 - val_accuracy: 0.8569 - val_auc: 0.8563 - val_loss: 0.3431 - learning_rate: 0.0010\n",
            "Epoch 36/200\n",
            "\u001b[1m200/200\u001b[0m \u001b[32m━━━━━━━━━━━━━━━━━━━━\u001b[0m\u001b[37m\u001b[0m \u001b[1m1s\u001b[0m 3ms/step - accuracy: 0.8516 - auc: 0.8578 - loss: 0.3541 - val_accuracy: 0.8575 - val_auc: 0.8565 - val_loss: 0.3428 - learning_rate: 0.0010\n",
            "Epoch 37/200\n",
            "\u001b[1m200/200\u001b[0m \u001b[32m━━━━━━━━━━━━━━━━━━━━\u001b[0m\u001b[37m\u001b[0m \u001b[1m1s\u001b[0m 3ms/step - accuracy: 0.8521 - auc: 0.8582 - loss: 0.3537 - val_accuracy: 0.8569 - val_auc: 0.8570 - val_loss: 0.3425 - learning_rate: 0.0010\n",
            "Epoch 38/200\n",
            "\u001b[1m200/200\u001b[0m \u001b[32m━━━━━━━━━━━━━━━━━━━━\u001b[0m\u001b[37m\u001b[0m \u001b[1m1s\u001b[0m 3ms/step - accuracy: 0.8512 - auc: 0.8588 - loss: 0.3531 - val_accuracy: 0.8575 - val_auc: 0.8574 - val_loss: 0.3418 - learning_rate: 0.0010\n",
            "Epoch 39/200\n",
            "\u001b[1m200/200\u001b[0m \u001b[32m━━━━━━━━━━━━━━━━━━━━\u001b[0m\u001b[37m\u001b[0m \u001b[1m1s\u001b[0m 3ms/step - accuracy: 0.8513 - auc: 0.8591 - loss: 0.3526 - val_accuracy: 0.8581 - val_auc: 0.8576 - val_loss: 0.3415 - learning_rate: 0.0010\n",
            "Epoch 40/200\n",
            "\u001b[1m200/200\u001b[0m \u001b[32m━━━━━━━━━━━━━━━━━━━━\u001b[0m\u001b[37m\u001b[0m \u001b[1m1s\u001b[0m 3ms/step - accuracy: 0.8520 - auc: 0.8596 - loss: 0.3521 - val_accuracy: 0.8600 - val_auc: 0.8577 - val_loss: 0.3413 - learning_rate: 0.0010\n",
            "Epoch 41/200\n",
            "\u001b[1m200/200\u001b[0m \u001b[32m━━━━━━━━━━━━━━━━━━━━\u001b[0m\u001b[37m\u001b[0m \u001b[1m1s\u001b[0m 3ms/step - accuracy: 0.8520 - auc: 0.8597 - loss: 0.3518 - val_accuracy: 0.8587 - val_auc: 0.8582 - val_loss: 0.3409 - learning_rate: 0.0010\n",
            "Epoch 42/200\n",
            "\u001b[1m200/200\u001b[0m \u001b[32m━━━━━━━━━━━━━━━━━━━━\u001b[0m\u001b[37m\u001b[0m \u001b[1m1s\u001b[0m 3ms/step - accuracy: 0.8515 - auc: 0.8600 - loss: 0.3513 - val_accuracy: 0.8600 - val_auc: 0.8585 - val_loss: 0.3406 - learning_rate: 0.0010\n",
            "Epoch 43/200\n",
            "\u001b[1m200/200\u001b[0m \u001b[32m━━━━━━━━━━━━━━━━━━━━\u001b[0m\u001b[37m\u001b[0m \u001b[1m1s\u001b[0m 3ms/step - accuracy: 0.8518 - auc: 0.8604 - loss: 0.3510 - val_accuracy: 0.8600 - val_auc: 0.8586 - val_loss: 0.3404 - learning_rate: 0.0010\n",
            "Epoch 44/200\n",
            "\u001b[1m200/200\u001b[0m \u001b[32m━━━━━━━━━━━━━━━━━━━━\u001b[0m\u001b[37m\u001b[0m \u001b[1m1s\u001b[0m 3ms/step - accuracy: 0.8520 - auc: 0.8604 - loss: 0.3508 - val_accuracy: 0.8594 - val_auc: 0.8590 - val_loss: 0.3401 - learning_rate: 0.0010\n",
            "Epoch 45/200\n",
            "\u001b[1m200/200\u001b[0m \u001b[32m━━━━━━━━━━━━━━━━━━━━\u001b[0m\u001b[37m\u001b[0m \u001b[1m1s\u001b[0m 3ms/step - accuracy: 0.8523 - auc: 0.8609 - loss: 0.3504 - val_accuracy: 0.8612 - val_auc: 0.8592 - val_loss: 0.3398 - learning_rate: 0.0010\n",
            "Epoch 46/200\n",
            "\u001b[1m200/200\u001b[0m \u001b[32m━━━━━━━━━━━━━━━━━━━━\u001b[0m\u001b[37m\u001b[0m \u001b[1m1s\u001b[0m 3ms/step - accuracy: 0.8531 - auc: 0.8614 - loss: 0.3500 - val_accuracy: 0.8619 - val_auc: 0.8591 - val_loss: 0.3395 - learning_rate: 0.0010\n",
            "Epoch 47/200\n",
            "\u001b[1m200/200\u001b[0m \u001b[32m━━━━━━━━━━━━━━━━━━━━\u001b[0m\u001b[37m\u001b[0m \u001b[1m1s\u001b[0m 3ms/step - accuracy: 0.8536 - auc: 0.8618 - loss: 0.3496 - val_accuracy: 0.8631 - val_auc: 0.8597 - val_loss: 0.3393 - learning_rate: 0.0010\n",
            "Epoch 48/200\n",
            "\u001b[1m200/200\u001b[0m \u001b[32m━━━━━━━━━━━━━━━━━━━━\u001b[0m\u001b[37m\u001b[0m \u001b[1m1s\u001b[0m 3ms/step - accuracy: 0.8535 - auc: 0.8623 - loss: 0.3491 - val_accuracy: 0.8631 - val_auc: 0.8602 - val_loss: 0.3389 - learning_rate: 0.0010\n",
            "Epoch 49/200\n",
            "\u001b[1m200/200\u001b[0m \u001b[32m━━━━━━━━━━━━━━━━━━━━\u001b[0m\u001b[37m\u001b[0m \u001b[1m1s\u001b[0m 5ms/step - accuracy: 0.8544 - auc: 0.8626 - loss: 0.3486 - val_accuracy: 0.8619 - val_auc: 0.8606 - val_loss: 0.3386 - learning_rate: 0.0010\n",
            "Epoch 50/200\n",
            "\u001b[1m200/200\u001b[0m \u001b[32m━━━━━━━━━━━━━━━━━━━━\u001b[0m\u001b[37m\u001b[0m \u001b[1m1s\u001b[0m 5ms/step - accuracy: 0.8549 - auc: 0.8628 - loss: 0.3482 - val_accuracy: 0.8631 - val_auc: 0.8608 - val_loss: 0.3383 - learning_rate: 0.0010\n",
            "Epoch 51/200\n",
            "\u001b[1m200/200\u001b[0m \u001b[32m━━━━━━━━━━━━━━━━━━━━\u001b[0m\u001b[37m\u001b[0m \u001b[1m1s\u001b[0m 3ms/step - accuracy: 0.8542 - auc: 0.8635 - loss: 0.3476 - val_accuracy: 0.8637 - val_auc: 0.8607 - val_loss: 0.3380 - learning_rate: 0.0010\n",
            "Epoch 52/200\n",
            "\u001b[1m200/200\u001b[0m \u001b[32m━━━━━━━━━━━━━━━━━━━━\u001b[0m\u001b[37m\u001b[0m \u001b[1m1s\u001b[0m 3ms/step - accuracy: 0.8545 - auc: 0.8636 - loss: 0.3472 - val_accuracy: 0.8637 - val_auc: 0.8612 - val_loss: 0.3377 - learning_rate: 0.0010\n",
            "Epoch 53/200\n",
            "\u001b[1m200/200\u001b[0m \u001b[32m━━━━━━━━━━━━━━━━━━━━\u001b[0m\u001b[37m\u001b[0m \u001b[1m1s\u001b[0m 3ms/step - accuracy: 0.8545 - auc: 0.8639 - loss: 0.3468 - val_accuracy: 0.8631 - val_auc: 0.8616 - val_loss: 0.3373 - learning_rate: 0.0010\n",
            "Epoch 54/200\n",
            "\u001b[1m200/200\u001b[0m \u001b[32m━━━━━━━━━━━━━━━━━━━━\u001b[0m\u001b[37m\u001b[0m \u001b[1m1s\u001b[0m 4ms/step - accuracy: 0.8545 - auc: 0.8642 - loss: 0.3466 - val_accuracy: 0.8631 - val_auc: 0.8616 - val_loss: 0.3370 - learning_rate: 0.0010\n",
            "Epoch 55/200\n",
            "\u001b[1m200/200\u001b[0m \u001b[32m━━━━━━━━━━━━━━━━━━━━\u001b[0m\u001b[37m\u001b[0m \u001b[1m1s\u001b[0m 4ms/step - accuracy: 0.8551 - auc: 0.8645 - loss: 0.3463 - val_accuracy: 0.8637 - val_auc: 0.8620 - val_loss: 0.3366 - learning_rate: 0.0010\n",
            "Epoch 56/200\n",
            "\u001b[1m200/200\u001b[0m \u001b[32m━━━━━━━━━━━━━━━━━━━━\u001b[0m\u001b[37m\u001b[0m \u001b[1m1s\u001b[0m 4ms/step - accuracy: 0.8559 - auc: 0.8645 - loss: 0.3461 - val_accuracy: 0.8631 - val_auc: 0.8623 - val_loss: 0.3365 - learning_rate: 0.0010\n",
            "Epoch 57/200\n",
            "\u001b[1m200/200\u001b[0m \u001b[32m━━━━━━━━━━━━━━━━━━━━\u001b[0m\u001b[37m\u001b[0m \u001b[1m1s\u001b[0m 5ms/step - accuracy: 0.8560 - auc: 0.8650 - loss: 0.3458 - val_accuracy: 0.8631 - val_auc: 0.8625 - val_loss: 0.3364 - learning_rate: 0.0010\n",
            "Epoch 58/200\n",
            "\u001b[1m200/200\u001b[0m \u001b[32m━━━━━━━━━━━━━━━━━━━━\u001b[0m\u001b[37m\u001b[0m \u001b[1m2s\u001b[0m 9ms/step - accuracy: 0.8562 - auc: 0.8652 - loss: 0.3454 - val_accuracy: 0.8631 - val_auc: 0.8625 - val_loss: 0.3362 - learning_rate: 0.0010\n",
            "Epoch 59/200\n",
            "\u001b[1m200/200\u001b[0m \u001b[32m━━━━━━━━━━━━━━━━━━━━\u001b[0m\u001b[37m\u001b[0m \u001b[1m2s\u001b[0m 7ms/step - accuracy: 0.8568 - auc: 0.8655 - loss: 0.3450 - val_accuracy: 0.8625 - val_auc: 0.8623 - val_loss: 0.3361 - learning_rate: 0.0010\n",
            "Epoch 60/200\n",
            "\u001b[1m200/200\u001b[0m \u001b[32m━━━━━━━━━━━━━━━━━━━━\u001b[0m\u001b[37m\u001b[0m \u001b[1m3s\u001b[0m 6ms/step - accuracy: 0.8563 - auc: 0.8658 - loss: 0.3447 - val_accuracy: 0.8625 - val_auc: 0.8624 - val_loss: 0.3359 - learning_rate: 0.0010\n",
            "Epoch 61/200\n",
            "\u001b[1m200/200\u001b[0m \u001b[32m━━━━━━━━━━━━━━━━━━━━\u001b[0m\u001b[37m\u001b[0m \u001b[1m2s\u001b[0m 5ms/step - accuracy: 0.8562 - auc: 0.8659 - loss: 0.3445 - val_accuracy: 0.8631 - val_auc: 0.8626 - val_loss: 0.3357 - learning_rate: 0.0010\n",
            "Epoch 62/200\n",
            "\u001b[1m200/200\u001b[0m \u001b[32m━━━━━━━━━━━━━━━━━━━━\u001b[0m\u001b[37m\u001b[0m \u001b[1m2s\u001b[0m 7ms/step - accuracy: 0.8568 - auc: 0.8660 - loss: 0.3444 - val_accuracy: 0.8637 - val_auc: 0.8623 - val_loss: 0.3356 - learning_rate: 0.0010\n",
            "Epoch 63/200\n",
            "\u001b[1m200/200\u001b[0m \u001b[32m━━━━━━━━━━━━━━━━━━━━\u001b[0m\u001b[37m\u001b[0m \u001b[1m2s\u001b[0m 6ms/step - accuracy: 0.8568 - auc: 0.8663 - loss: 0.3440 - val_accuracy: 0.8637 - val_auc: 0.8626 - val_loss: 0.3354 - learning_rate: 0.0010\n",
            "Epoch 64/200\n",
            "\u001b[1m200/200\u001b[0m \u001b[32m━━━━━━━━━━━━━━━━━━━━\u001b[0m\u001b[37m\u001b[0m \u001b[1m2s\u001b[0m 3ms/step - accuracy: 0.8568 - auc: 0.8665 - loss: 0.3437 - val_accuracy: 0.8637 - val_auc: 0.8624 - val_loss: 0.3353 - learning_rate: 0.0010\n",
            "Epoch 65/200\n",
            "\u001b[1m200/200\u001b[0m \u001b[32m━━━━━━━━━━━━━━━━━━━━\u001b[0m\u001b[37m\u001b[0m \u001b[1m1s\u001b[0m 4ms/step - accuracy: 0.8572 - auc: 0.8667 - loss: 0.3434 - val_accuracy: 0.8650 - val_auc: 0.8629 - val_loss: 0.3350 - learning_rate: 0.0010\n",
            "Epoch 66/200\n",
            "\u001b[1m200/200\u001b[0m \u001b[32m━━━━━━━━━━━━━━━━━━━━\u001b[0m\u001b[37m\u001b[0m \u001b[1m3s\u001b[0m 10ms/step - accuracy: 0.8577 - auc: 0.8669 - loss: 0.3432 - val_accuracy: 0.8644 - val_auc: 0.8627 - val_loss: 0.3350 - learning_rate: 0.0010\n",
            "Epoch 67/200\n",
            "\u001b[1m200/200\u001b[0m \u001b[32m━━━━━━━━━━━━━━━━━━━━\u001b[0m\u001b[37m\u001b[0m \u001b[1m2s\u001b[0m 5ms/step - accuracy: 0.8583 - auc: 0.8670 - loss: 0.3429 - val_accuracy: 0.8650 - val_auc: 0.8629 - val_loss: 0.3349 - learning_rate: 0.0010\n",
            "Epoch 68/200\n",
            "\u001b[1m200/200\u001b[0m \u001b[32m━━━━━━━━━━━━━━━━━━━━\u001b[0m\u001b[37m\u001b[0m \u001b[1m1s\u001b[0m 3ms/step - accuracy: 0.8586 - auc: 0.8671 - loss: 0.3427 - val_accuracy: 0.8656 - val_auc: 0.8632 - val_loss: 0.3347 - learning_rate: 0.0010\n",
            "Epoch 69/200\n",
            "\u001b[1m200/200\u001b[0m \u001b[32m━━━━━━━━━━━━━━━━━━━━\u001b[0m\u001b[37m\u001b[0m \u001b[1m1s\u001b[0m 4ms/step - accuracy: 0.8584 - auc: 0.8673 - loss: 0.3424 - val_accuracy: 0.8656 - val_auc: 0.8630 - val_loss: 0.3345 - learning_rate: 0.0010\n",
            "Epoch 70/200\n",
            "\u001b[1m200/200\u001b[0m \u001b[32m━━━━━━━━━━━━━━━━━━━━\u001b[0m\u001b[37m\u001b[0m \u001b[1m1s\u001b[0m 3ms/step - accuracy: 0.8587 - auc: 0.8676 - loss: 0.3420 - val_accuracy: 0.8669 - val_auc: 0.8631 - val_loss: 0.3345 - learning_rate: 0.0010\n",
            "Epoch 71/200\n",
            "\u001b[1m200/200\u001b[0m \u001b[32m━━━━━━━━━━━━━━━━━━━━\u001b[0m\u001b[37m\u001b[0m \u001b[1m2s\u001b[0m 8ms/step - accuracy: 0.8589 - auc: 0.8680 - loss: 0.3416 - val_accuracy: 0.8662 - val_auc: 0.8633 - val_loss: 0.3341 - learning_rate: 0.0010\n",
            "Epoch 72/200\n",
            "\u001b[1m200/200\u001b[0m \u001b[32m━━━━━━━━━━━━━━━━━━━━\u001b[0m\u001b[37m\u001b[0m \u001b[1m1s\u001b[0m 3ms/step - accuracy: 0.8583 - auc: 0.8684 - loss: 0.3413 - val_accuracy: 0.8662 - val_auc: 0.8633 - val_loss: 0.3340 - learning_rate: 0.0010\n",
            "Epoch 73/200\n",
            "\u001b[1m200/200\u001b[0m \u001b[32m━━━━━━━━━━━━━━━━━━━━\u001b[0m\u001b[37m\u001b[0m \u001b[1m1s\u001b[0m 3ms/step - accuracy: 0.8583 - auc: 0.8685 - loss: 0.3413 - val_accuracy: 0.8662 - val_auc: 0.8635 - val_loss: 0.3340 - learning_rate: 0.0010\n",
            "Epoch 74/200\n",
            "\u001b[1m200/200\u001b[0m \u001b[32m━━━━━━━━━━━━━━━━━━━━\u001b[0m\u001b[37m\u001b[0m \u001b[1m1s\u001b[0m 4ms/step - accuracy: 0.8594 - auc: 0.8683 - loss: 0.3412 - val_accuracy: 0.8662 - val_auc: 0.8633 - val_loss: 0.3340 - learning_rate: 0.0010\n",
            "Epoch 75/200\n",
            "\u001b[1m200/200\u001b[0m \u001b[32m━━━━━━━━━━━━━━━━━━━━\u001b[0m\u001b[37m\u001b[0m \u001b[1m2s\u001b[0m 8ms/step - accuracy: 0.8594 - auc: 0.8686 - loss: 0.3411 - val_accuracy: 0.8662 - val_auc: 0.8637 - val_loss: 0.3337 - learning_rate: 0.0010\n",
            "Epoch 76/200\n",
            "\u001b[1m200/200\u001b[0m \u001b[32m━━━━━━━━━━━━━━━━━━━━\u001b[0m\u001b[37m\u001b[0m \u001b[1m2s\u001b[0m 4ms/step - accuracy: 0.8581 - auc: 0.8690 - loss: 0.3407 - val_accuracy: 0.8669 - val_auc: 0.8636 - val_loss: 0.3338 - learning_rate: 0.0010\n",
            "Epoch 77/200\n",
            "\u001b[1m200/200\u001b[0m \u001b[32m━━━━━━━━━━━━━━━━━━━━\u001b[0m\u001b[37m\u001b[0m \u001b[1m2s\u001b[0m 9ms/step - accuracy: 0.8586 - auc: 0.8691 - loss: 0.3407 - val_accuracy: 0.8669 - val_auc: 0.8636 - val_loss: 0.3340 - learning_rate: 0.0010\n",
            "Epoch 78/200\n",
            "\u001b[1m200/200\u001b[0m \u001b[32m━━━━━━━━━━━━━━━━━━━━\u001b[0m\u001b[37m\u001b[0m \u001b[1m2s\u001b[0m 6ms/step - accuracy: 0.8587 - auc: 0.8691 - loss: 0.3404 - val_accuracy: 0.8681 - val_auc: 0.8635 - val_loss: 0.3340 - learning_rate: 0.0010\n",
            "Epoch 79/200\n",
            "\u001b[1m200/200\u001b[0m \u001b[32m━━━━━━━━━━━━━━━━━━━━\u001b[0m\u001b[37m\u001b[0m \u001b[1m1s\u001b[0m 5ms/step - accuracy: 0.8600 - auc: 0.8692 - loss: 0.3404 - val_accuracy: 0.8681 - val_auc: 0.8634 - val_loss: 0.3341 - learning_rate: 0.0010\n",
            "Epoch 80/200\n",
            "\u001b[1m200/200\u001b[0m \u001b[32m━━━━━━━━━━━━━━━━━━━━\u001b[0m\u001b[37m\u001b[0m \u001b[1m1s\u001b[0m 3ms/step - accuracy: 0.8599 - auc: 0.8695 - loss: 0.3402 - val_accuracy: 0.8669 - val_auc: 0.8634 - val_loss: 0.3341 - learning_rate: 0.0010\n",
            "Epoch 81/200\n",
            "\u001b[1m200/200\u001b[0m \u001b[32m━━━━━━━━━━━━━━━━━━━━\u001b[0m\u001b[37m\u001b[0m \u001b[1m1s\u001b[0m 5ms/step - accuracy: 0.8584 - auc: 0.8707 - loss: 0.3389 - val_accuracy: 0.8675 - val_auc: 0.8634 - val_loss: 0.3331 - learning_rate: 5.0000e-04\n",
            "Epoch 82/200\n",
            "\u001b[1m200/200\u001b[0m \u001b[32m━━━━━━━━━━━━━━━━━━━━\u001b[0m\u001b[37m\u001b[0m \u001b[1m1s\u001b[0m 5ms/step - accuracy: 0.8590 - auc: 0.8719 - loss: 0.3375 - val_accuracy: 0.8675 - val_auc: 0.8636 - val_loss: 0.3331 - learning_rate: 5.0000e-04\n",
            "Epoch 83/200\n",
            "\u001b[1m200/200\u001b[0m \u001b[32m━━━━━━━━━━━━━━━━━━━━\u001b[0m\u001b[37m\u001b[0m \u001b[1m1s\u001b[0m 5ms/step - accuracy: 0.8587 - auc: 0.8721 - loss: 0.3373 - val_accuracy: 0.8675 - val_auc: 0.8635 - val_loss: 0.3331 - learning_rate: 5.0000e-04\n",
            "Epoch 84/200\n",
            "\u001b[1m200/200\u001b[0m \u001b[32m━━━━━━━━━━━━━━━━━━━━\u001b[0m\u001b[37m\u001b[0m \u001b[1m2s\u001b[0m 8ms/step - accuracy: 0.8589 - auc: 0.8721 - loss: 0.3371 - val_accuracy: 0.8669 - val_auc: 0.8633 - val_loss: 0.3330 - learning_rate: 5.0000e-04\n",
            "Epoch 85/200\n",
            "\u001b[1m200/200\u001b[0m \u001b[32m━━━━━━━━━━━━━━━━━━━━\u001b[0m\u001b[37m\u001b[0m \u001b[1m2s\u001b[0m 4ms/step - accuracy: 0.8587 - auc: 0.8722 - loss: 0.3370 - val_accuracy: 0.8669 - val_auc: 0.8631 - val_loss: 0.3330 - learning_rate: 5.0000e-04\n"
          ]
        }
      ]
    },
    {
      "cell_type": "code",
      "source": [
        "y_proba = ann.predict(X_test).ravel()\n",
        "y_pred = (y_proba >= 0.5).astype(int)\n",
        "\n",
        "print(\"\\nMatriz de confusión:\\n\", confusion_matrix(y_test, y_pred))\n",
        "print(\"\\nReporte de clasificación:\\n\", classification_report(y_test, y_pred, digits=4))\n",
        "print(\"AUC:\", roc_auc_score(y_test, y_proba))"
      ],
      "metadata": {
        "colab": {
          "base_uri": "https://localhost:8080/"
        },
        "id": "AHbo7d-zMNGZ",
        "outputId": "db5b4102-63d8-4fa3-9e9a-a43c15e00a4d"
      },
      "execution_count": 38,
      "outputs": [
        {
          "output_type": "stream",
          "name": "stdout",
          "text": [
            "\u001b[1m63/63\u001b[0m \u001b[32m━━━━━━━━━━━━━━━━━━━━\u001b[0m\u001b[37m\u001b[0m \u001b[1m0s\u001b[0m 1ms/step\n",
            "\n",
            "Matriz de confusión:\n",
            " [[1525   68]\n",
            " [ 211  196]]\n",
            "\n",
            "Reporte de clasificación:\n",
            "               precision    recall  f1-score   support\n",
            "\n",
            "           0     0.8785    0.9573    0.9162      1593\n",
            "           1     0.7424    0.4816    0.5842       407\n",
            "\n",
            "    accuracy                         0.8605      2000\n",
            "   macro avg     0.8104    0.7194    0.7502      2000\n",
            "weighted avg     0.8508    0.8605    0.8486      2000\n",
            "\n",
            "AUC: 0.8523562082884117\n"
          ]
        }
      ]
    },
    {
      "cell_type": "code",
      "source": [
        "sample_raw = pd.DataFrame([{\n",
        "    \"CreditScore\": 600,\n",
        "    \"Geography\": \"France\",\n",
        "    \"Gender\": \"Male\",\n",
        "    \"Age\": 40,\n",
        "    \"Tenure\": 3,\n",
        "    \"Balance\": 60000,\n",
        "    \"NumOfProducts\": 2,\n",
        "    \"HasCrCard\": 1,\n",
        "    \"IsActiveMember\": 1,\n",
        "    \"EstimatedSalary\": 50000\n",
        "}])\n",
        "sample_raw.loc[:, \"Gender\"] = le_gender.transform(sample_raw[\"Gender\"])\n",
        "sample_ohe = ct.transform(sample_raw)\n",
        "sample_scaled = sc.transform(sample_ohe).astype(\"float32\")\n",
        "\n",
        "proba = ann.predict(sample_scaled).item()\n",
        "print(f\"\\nProbabilidad de churn para el cliente ejemplo: {proba:.4f}\")\n",
        "print(\"Salir del banco\" if proba >= 0.5 else \"Permanecer en el banco\")\n"
      ],
      "metadata": {
        "colab": {
          "base_uri": "https://localhost:8080/"
        },
        "id": "C8zRQLPHNBeh",
        "outputId": "3293a853-60ae-41e3-9a04-7a7357ec0208"
      },
      "execution_count": 39,
      "outputs": [
        {
          "output_type": "stream",
          "name": "stdout",
          "text": [
            "\u001b[1m1/1\u001b[0m \u001b[32m━━━━━━━━━━━━━━━━━━━━\u001b[0m\u001b[37m\u001b[0m \u001b[1m0s\u001b[0m 40ms/step\n",
            "\n",
            "Probabilidad de churn para el cliente ejemplo: 0.0488\n",
            "Permanecer en el banco\n"
          ]
        }
      ]
    }
  ]
}