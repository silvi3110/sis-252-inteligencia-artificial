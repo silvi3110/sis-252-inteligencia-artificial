{
  "nbformat": 4,
  "nbformat_minor": 0,
  "metadata": {
    "colab": {
      "provenance": [],
      "authorship_tag": "ABX9TyNlVuPWZOnI2Tc7SMdM6zsL",
      "include_colab_link": true
    },
    "kernelspec": {
      "name": "python3",
      "display_name": "Python 3"
    },
    "language_info": {
      "name": "python"
    }
  },
  "cells": [
    {
      "cell_type": "markdown",
      "metadata": {
        "id": "view-in-github",
        "colab_type": "text"
      },
      "source": [
        "<a href=\"https://colab.research.google.com/github/silvi3110/sis-252-inteligencia-artificial/blob/main/Ejercicios_Deep_Learning_3.ipynb\" target=\"_parent\"><img src=\"https://colab.research.google.com/assets/colab-badge.svg\" alt=\"Open In Colab\"/></a>"
      ]
    },
    {
      "cell_type": "code",
      "execution_count": 4,
      "metadata": {
        "colab": {
          "base_uri": "https://localhost:8080/"
        },
        "id": "BGSSiatUfuWi",
        "outputId": "158d480b-6a6f-4273-9910-16ebc2a077b6"
      },
      "outputs": [
        {
          "output_type": "stream",
          "name": "stdout",
          "text": [
            "Precisión en test: 0.9777777777777777\n"
          ]
        }
      ],
      "source": [
        "# Ejercicio 3: Red neuronal en el dataset Iris\n",
        "from sklearn.datasets import load_iris\n",
        "from sklearn.model_selection import train_test_split\n",
        "from sklearn.neural_network import MLPClassifier\n",
        "from sklearn.metrics import accuracy_score\n",
        "\n",
        "# Cargar dataset Iris\n",
        "iris = load_iris()\n",
        "X, y = iris.data, iris.target\n",
        "\n",
        "# Dicidir en entrenamiento y prueba\n",
        "X_train, X_test, y_train, y_test = train_test_split(X, y, test_size=0.3, random_state=42)\n",
        "\n",
        "# Crear modelo\n",
        "mlp = MLPClassifier(hidden_layer_sizes=(10, 10), activation=\"relu\", max_iter=2000)\n",
        "\n",
        "# Entrenar\n",
        "mlp.fit(X_train, y_train)\n",
        "\n",
        "# Evaluar\n",
        "y_pred = mlp.predict(X_test)\n",
        "print(\"Precisión en test:\", accuracy_score(y_test, y_pred))"
      ]
    }
  ]
}