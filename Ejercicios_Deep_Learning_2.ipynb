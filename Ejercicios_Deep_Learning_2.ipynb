{
  "nbformat": 4,
  "nbformat_minor": 0,
  "metadata": {
    "colab": {
      "provenance": [],
      "authorship_tag": "ABX9TyOt41FCnK3cfU3McqzeuFya",
      "include_colab_link": true
    },
    "kernelspec": {
      "name": "python3",
      "display_name": "Python 3"
    },
    "language_info": {
      "name": "python"
    }
  },
  "cells": [
    {
      "cell_type": "markdown",
      "metadata": {
        "id": "view-in-github",
        "colab_type": "text"
      },
      "source": [
        "<a href=\"https://colab.research.google.com/github/silvi3110/sis-252-inteligencia-artificial/blob/main/Ejercicios_Deep_Learning_2.ipynb\" target=\"_parent\"><img src=\"https://colab.research.google.com/assets/colab-badge.svg\" alt=\"Open In Colab\"/></a>"
      ]
    },
    {
      "cell_type": "code",
      "execution_count": 3,
      "metadata": {
        "colab": {
          "base_uri": "https://localhost:8080/"
        },
        "id": "XkJbV8Eic5--",
        "outputId": "db5e715c-049c-4dc7-e85e-835563142358"
      },
      "outputs": [
        {
          "output_type": "stream",
          "name": "stdout",
          "text": [
            "Predicciones XOR: [0 1 1 0]\n",
            "Probabilidades: [[0.82065542 0.17934458]\n",
            " [0.00858409 0.99141591]\n",
            " [0.02614083 0.97385917]\n",
            " [0.82065437 0.17934563]]\n"
          ]
        }
      ],
      "source": [
        "# Ejercicio 2: MLP para resolver el XOR\n",
        "import numpy as np\n",
        "from sklearn.neural_network import MLPClassifier\n",
        "\n",
        "# Datos XOR\n",
        "X = np.array([[0, 0], [0, 1], [1, 0], [1, 1]])\n",
        "y = np.array([0, 1, 1, 0]) # Salida XOR\n",
        "\n",
        "# Red neuronal con 2 capas ocultas de 4 neuronas cada una\n",
        "mlp = MLPClassifier(hidden_layer_sizes=(4, 4), activation=\"relu\", max_iter=2000)\n",
        "\n",
        "# Entrenar\n",
        "mlp.fit(X, y)\n",
        "\n",
        "# Probar\n",
        "print(\"Predicciones XOR:\", mlp.predict(X))\n",
        "print(\"Probabilidades:\", mlp.predict_proba(X))"
      ]
    }
  ]
}