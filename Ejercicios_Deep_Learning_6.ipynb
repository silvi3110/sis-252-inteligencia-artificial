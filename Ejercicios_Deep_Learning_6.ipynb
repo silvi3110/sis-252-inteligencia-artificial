{
  "nbformat": 4,
  "nbformat_minor": 0,
  "metadata": {
    "colab": {
      "provenance": [],
      "authorship_tag": "ABX9TyPi3Q9GTAVUgGfAcvIZ3zza",
      "include_colab_link": true
    },
    "kernelspec": {
      "name": "python3",
      "display_name": "Python 3"
    },
    "language_info": {
      "name": "python"
    }
  },
  "cells": [
    {
      "cell_type": "markdown",
      "metadata": {
        "id": "view-in-github",
        "colab_type": "text"
      },
      "source": [
        "<a href=\"https://colab.research.google.com/github/silvi3110/sis-252-inteligencia-artificial/blob/main/Ejercicios_Deep_Learning_6.ipynb\" target=\"_parent\"><img src=\"https://colab.research.google.com/assets/colab-badge.svg\" alt=\"Open In Colab\"/></a>"
      ]
    },
    {
      "cell_type": "code",
      "execution_count": 1,
      "metadata": {
        "id": "xH6d0mMTr5kG"
      },
      "outputs": [],
      "source": [
        "# ==========================\n",
        "# 0) Imports y configuración\n",
        "# ==========================\n",
        "import os\n",
        "import numpy as np\n",
        "import pandas as pd\n",
        "import tensorflow as tf\n",
        "\n",
        "from sklearn.model_selection import train_test_split\n",
        "from sklearn.compose import ColumnTransformer\n",
        "from sklearn.preprocessing import OneHotEncoder, StandardScaler\n",
        "from sklearn.impute import SimpleImputer\n",
        "from sklearn.metrics import classification_report, confusion_matrix, roc_auc_score\n",
        "\n",
        "from tensorflow.keras import layers, models, callbacks\n",
        "from sklearn.pipeline import Pipeline"
      ]
    },
    {
      "cell_type": "code",
      "source": [
        "\n",
        "# Reproducibilidad\n",
        "SEED = 42\n",
        "os.environ[\"PYTHONHASHSEED\"] = str(SEED)\n",
        "np.random.seed(SEED)\n",
        "tf.random.set_seed(SEED)\n",
        "tf.random.set_seed(SEED)\n",
        "\n",
        "print(\"TensorFlow:\", tf.__version__)"
      ],
      "metadata": {
        "colab": {
          "base_uri": "https://localhost:8080/"
        },
        "id": "7-7FtvCssA-X",
        "outputId": "1fcee135-a1dc-45be-c0a8-33e300fea7ed"
      },
      "execution_count": 2,
      "outputs": [
        {
          "output_type": "stream",
          "name": "stdout",
          "text": [
            "TensorFlow: 2.19.0\n"
          ]
        }
      ]
    },
    {
      "cell_type": "code",
      "source": [
        "# =====================================\n",
        "# 1) Cargar dataset Titanic (online URL)\n",
        "# =====================================\n",
        "URL = \"https://raw.githubusercontent.com/datasciencedojo/datasets/master/titanic.csv\"\n",
        "df = pd.read_csv(URL)\n",
        "\n",
        "# Mirada rápida\n",
        "print(\"Shape bruto:\", df.shape)\n",
        "print(\"Cols:\", list(df.columns))"
      ],
      "metadata": {
        "colab": {
          "base_uri": "https://localhost:8080/"
        },
        "id": "XFfO_2TcsGXw",
        "outputId": "7419ec88-020d-4a2d-d5a7-6da433185ff5"
      },
      "execution_count": 3,
      "outputs": [
        {
          "output_type": "stream",
          "name": "stdout",
          "text": [
            "Shape bruto: (891, 12)\n",
            "Cols: ['PassengerId', 'Survived', 'Pclass', 'Name', 'Sex', 'Age', 'SibSp', 'Parch', 'Ticket', 'Fare', 'Cabin', 'Embarked']\n"
          ]
        }
      ]
    },
    {
      "cell_type": "code",
      "source": [
        "# =======================================\n",
        "# 2) Selección de variables y objetivo (y)\n",
        "# =======================================\n",
        "# Objetivo: Survived (0/1)\n",
        "y = df[\"Survived\"].astype(int).values\n",
        "\n",
        "# Tomamos columnas usuales y evitamos leakage (PassengerId, Name, Ticket, Cabin no ayudan de base)\n",
        "X = df[[\n",
        "    \"Pclass\", \"Sex\", \"Age\", \"SibSp\", \"Parch\", \"Fare\", \"Embarked\"\n",
        "]].copy()"
      ],
      "metadata": {
        "id": "mc0SkH9GsKOT"
      },
      "execution_count": 4,
      "outputs": []
    },
    {
      "cell_type": "code",
      "source": [
        "# =======================================\n",
        "# 3) Feature engineering liviano y limpio\n",
        "# =======================================\n",
        "# 3.1) Imputación simple (dejar NaN y luego imputamos con SimpleImputer)\n",
        "# 3.2) Crear FamilySize y IsAlone (suma de SibSp+Parch y binario)\n",
        "X[\"FamilySize\"] = X[\"SibSp\"].fillna(0) + X[\"Parch\"].fillna(0) + 1\n",
        "X[\"IsAlone\"] = (X[\"FamilySize\"] == 1).astype(int)"
      ],
      "metadata": {
        "id": "ytUtUkVnsVkY"
      },
      "execution_count": 5,
      "outputs": []
    },
    {
      "cell_type": "code",
      "source": [
        "# =================================\n",
        "# 4) Definición de columnas por tipo\n",
        "# =================================\n",
        "num_cols = [\"Age\", \"SibSp\", \"Parch\", \"Fare\", \"FamilySize\"]\n",
        "cat_cols = [\"Pclass\", \"Sex\", \"Embarked\"] # Pclass como categórica ayuda a Pne-Hot"
      ],
      "metadata": {
        "id": "Z7hVFM7AsY8p"
      },
      "execution_count": 6,
      "outputs": []
    },
    {
      "cell_type": "code",
      "source": [
        "# ========================================\n",
        "# 5) Preprocesamiento con ColumnTransformer\n",
        "# ========================================\n",
        "numeric_transformer = Pipeline(steps=[\n",
        "    (\"imputer\", SimpleImputer(strategy=\"median\")),\n",
        "    (\"scaler\", StandardScaler()) # denso; aquí sí con media\n",
        "])\n",
        "\n",
        "categorical_transformer = Pipeline(steps=[\n",
        "    (\"imputer\", SimpleImputer(strategy=\"most_frequent\")),\n",
        "    (\"onehot\", OneHotEncoder(handle_unknown=\"ignore\", sparse_output=False))\n",
        "])\n",
        "\n",
        "from sklearn.pipeline import Pipeline\n",
        "preprocessor = ColumnTransformer(\n",
        "    transformers=[\n",
        "        (\"num\", numeric_transformer, num_cols),\n",
        "        (\"cat\", categorical_transformer, cat_cols)\n",
        "    ],\n",
        "    remainder=\"drop\"\n",
        ")"
      ],
      "metadata": {
        "id": "KhD5fFQDscLL"
      },
      "execution_count": 7,
      "outputs": []
    },
    {
      "cell_type": "code",
      "source": [
        "# ================================\n",
        "# 6) Split train/test estratificado\n",
        "# ================================\n",
        "X_train_df, X_test_df, y_train, y_test = train_test_split(\n",
        "    X, y, test_size=0.2, random_state=SEED, stratify=y\n",
        ")\n",
        "\n",
        "# Ajustar transformadores en train y transformar ambos\n",
        "X_train = preprocessor.fit_transform(X_train_df)\n",
        "X_test = preprocessor.transform(X_test_df)\n",
        "\n",
        "X_train = X_train.astype(\"float32\")\n",
        "X_test = X_test.astype(\"float32\")\n",
        "\n",
        "print(\"Input dims:\", X_train.shape[1])"
      ],
      "metadata": {
        "colab": {
          "base_uri": "https://localhost:8080/"
        },
        "id": "SAp5siqdse6e",
        "outputId": "ee9f4b52-dfd3-49a0-990e-493a507805b8"
      },
      "execution_count": 8,
      "outputs": [
        {
          "output_type": "stream",
          "name": "stdout",
          "text": [
            "Input dims: 13\n"
          ]
        }
      ]
    },
    {
      "cell_type": "code",
      "source": [
        "# ================================\n",
        "# 7) Definir y compilar el modelo\n",
        "# ================================\n",
        "def build_model(input_dim: int) -> tf.keras.Model:\n",
        "    model = models.Sequential([\n",
        "        layers.Input(shape=(input_dim,)),\n",
        "        layers.Dense(32, activation=\"relu\"),\n",
        "        layers.Dropout(0.15),\n",
        "        layers.Dense(32, activation=\"relu\"),\n",
        "        layers.Dropout(0.15),\n",
        "        layers.Dense(1, activation=\"sigmoid\")\n",
        "    ])\n",
        "\n",
        "    model.compile(\n",
        "        optimizer=\"adam\",\n",
        "        loss=\"binary_crossentropy\",\n",
        "        metrics=[\"accuracy\", tf.keras.metrics.AUC(name=\"auc\")]\n",
        "    )\n",
        "    return model\n",
        "\n",
        "model = build_model(X_train.shape[1])\n",
        "model.summary()"
      ],
      "metadata": {
        "colab": {
          "base_uri": "https://localhost:8080/",
          "height": 289
        },
        "id": "v1YU9dbEshnC",
        "outputId": "42040c11-0b3d-4949-808e-fd3d2287d45d"
      },
      "execution_count": 9,
      "outputs": [
        {
          "output_type": "display_data",
          "data": {
            "text/plain": [
              "\u001b[1mModel: \"sequential\"\u001b[0m\n"
            ],
            "text/html": [
              "<pre style=\"white-space:pre;overflow-x:auto;line-height:normal;font-family:Menlo,'DejaVu Sans Mono',consolas,'Courier New',monospace\"><span style=\"font-weight: bold\">Model: \"sequential\"</span>\n",
              "</pre>\n"
            ]
          },
          "metadata": {}
        },
        {
          "output_type": "display_data",
          "data": {
            "text/plain": [
              "┏━━━━━━━━━━━━━━━━━━━━━━━━━━━━━━━━━┳━━━━━━━━━━━━━━━━━━━━━━━━┳━━━━━━━━━━━━━━━┓\n",
              "┃\u001b[1m \u001b[0m\u001b[1mLayer (type)                   \u001b[0m\u001b[1m \u001b[0m┃\u001b[1m \u001b[0m\u001b[1mOutput Shape          \u001b[0m\u001b[1m \u001b[0m┃\u001b[1m \u001b[0m\u001b[1m      Param #\u001b[0m\u001b[1m \u001b[0m┃\n",
              "┡━━━━━━━━━━━━━━━━━━━━━━━━━━━━━━━━━╇━━━━━━━━━━━━━━━━━━━━━━━━╇━━━━━━━━━━━━━━━┩\n",
              "│ dense (\u001b[38;5;33mDense\u001b[0m)                   │ (\u001b[38;5;45mNone\u001b[0m, \u001b[38;5;34m32\u001b[0m)             │           \u001b[38;5;34m448\u001b[0m │\n",
              "├─────────────────────────────────┼────────────────────────┼───────────────┤\n",
              "│ dropout (\u001b[38;5;33mDropout\u001b[0m)               │ (\u001b[38;5;45mNone\u001b[0m, \u001b[38;5;34m32\u001b[0m)             │             \u001b[38;5;34m0\u001b[0m │\n",
              "├─────────────────────────────────┼────────────────────────┼───────────────┤\n",
              "│ dense_1 (\u001b[38;5;33mDense\u001b[0m)                 │ (\u001b[38;5;45mNone\u001b[0m, \u001b[38;5;34m32\u001b[0m)             │         \u001b[38;5;34m1,056\u001b[0m │\n",
              "├─────────────────────────────────┼────────────────────────┼───────────────┤\n",
              "│ dropout_1 (\u001b[38;5;33mDropout\u001b[0m)             │ (\u001b[38;5;45mNone\u001b[0m, \u001b[38;5;34m32\u001b[0m)             │             \u001b[38;5;34m0\u001b[0m │\n",
              "├─────────────────────────────────┼────────────────────────┼───────────────┤\n",
              "│ dense_2 (\u001b[38;5;33mDense\u001b[0m)                 │ (\u001b[38;5;45mNone\u001b[0m, \u001b[38;5;34m1\u001b[0m)              │            \u001b[38;5;34m33\u001b[0m │\n",
              "└─────────────────────────────────┴────────────────────────┴───────────────┘\n"
            ],
            "text/html": [
              "<pre style=\"white-space:pre;overflow-x:auto;line-height:normal;font-family:Menlo,'DejaVu Sans Mono',consolas,'Courier New',monospace\">┏━━━━━━━━━━━━━━━━━━━━━━━━━━━━━━━━━┳━━━━━━━━━━━━━━━━━━━━━━━━┳━━━━━━━━━━━━━━━┓\n",
              "┃<span style=\"font-weight: bold\"> Layer (type)                    </span>┃<span style=\"font-weight: bold\"> Output Shape           </span>┃<span style=\"font-weight: bold\">       Param # </span>┃\n",
              "┡━━━━━━━━━━━━━━━━━━━━━━━━━━━━━━━━━╇━━━━━━━━━━━━━━━━━━━━━━━━╇━━━━━━━━━━━━━━━┩\n",
              "│ dense (<span style=\"color: #0087ff; text-decoration-color: #0087ff\">Dense</span>)                   │ (<span style=\"color: #00d7ff; text-decoration-color: #00d7ff\">None</span>, <span style=\"color: #00af00; text-decoration-color: #00af00\">32</span>)             │           <span style=\"color: #00af00; text-decoration-color: #00af00\">448</span> │\n",
              "├─────────────────────────────────┼────────────────────────┼───────────────┤\n",
              "│ dropout (<span style=\"color: #0087ff; text-decoration-color: #0087ff\">Dropout</span>)               │ (<span style=\"color: #00d7ff; text-decoration-color: #00d7ff\">None</span>, <span style=\"color: #00af00; text-decoration-color: #00af00\">32</span>)             │             <span style=\"color: #00af00; text-decoration-color: #00af00\">0</span> │\n",
              "├─────────────────────────────────┼────────────────────────┼───────────────┤\n",
              "│ dense_1 (<span style=\"color: #0087ff; text-decoration-color: #0087ff\">Dense</span>)                 │ (<span style=\"color: #00d7ff; text-decoration-color: #00d7ff\">None</span>, <span style=\"color: #00af00; text-decoration-color: #00af00\">32</span>)             │         <span style=\"color: #00af00; text-decoration-color: #00af00\">1,056</span> │\n",
              "├─────────────────────────────────┼────────────────────────┼───────────────┤\n",
              "│ dropout_1 (<span style=\"color: #0087ff; text-decoration-color: #0087ff\">Dropout</span>)             │ (<span style=\"color: #00d7ff; text-decoration-color: #00d7ff\">None</span>, <span style=\"color: #00af00; text-decoration-color: #00af00\">32</span>)             │             <span style=\"color: #00af00; text-decoration-color: #00af00\">0</span> │\n",
              "├─────────────────────────────────┼────────────────────────┼───────────────┤\n",
              "│ dense_2 (<span style=\"color: #0087ff; text-decoration-color: #0087ff\">Dense</span>)                 │ (<span style=\"color: #00d7ff; text-decoration-color: #00d7ff\">None</span>, <span style=\"color: #00af00; text-decoration-color: #00af00\">1</span>)              │            <span style=\"color: #00af00; text-decoration-color: #00af00\">33</span> │\n",
              "└─────────────────────────────────┴────────────────────────┴───────────────┘\n",
              "</pre>\n"
            ]
          },
          "metadata": {}
        },
        {
          "output_type": "display_data",
          "data": {
            "text/plain": [
              "\u001b[1m Total params: \u001b[0m\u001b[38;5;34m1,537\u001b[0m (6.00 KB)\n"
            ],
            "text/html": [
              "<pre style=\"white-space:pre;overflow-x:auto;line-height:normal;font-family:Menlo,'DejaVu Sans Mono',consolas,'Courier New',monospace\"><span style=\"font-weight: bold\"> Total params: </span><span style=\"color: #00af00; text-decoration-color: #00af00\">1,537</span> (6.00 KB)\n",
              "</pre>\n"
            ]
          },
          "metadata": {}
        },
        {
          "output_type": "display_data",
          "data": {
            "text/plain": [
              "\u001b[1m Trainable params: \u001b[0m\u001b[38;5;34m1,537\u001b[0m (6.00 KB)\n"
            ],
            "text/html": [
              "<pre style=\"white-space:pre;overflow-x:auto;line-height:normal;font-family:Menlo,'DejaVu Sans Mono',consolas,'Courier New',monospace\"><span style=\"font-weight: bold\"> Trainable params: </span><span style=\"color: #00af00; text-decoration-color: #00af00\">1,537</span> (6.00 KB)\n",
              "</pre>\n"
            ]
          },
          "metadata": {}
        },
        {
          "output_type": "display_data",
          "data": {
            "text/plain": [
              "\u001b[1m Non-trainable params: \u001b[0m\u001b[38;5;34m0\u001b[0m (0.00 B)\n"
            ],
            "text/html": [
              "<pre style=\"white-space:pre;overflow-x:auto;line-height:normal;font-family:Menlo,'DejaVu Sans Mono',consolas,'Courier New',monospace\"><span style=\"font-weight: bold\"> Non-trainable params: </span><span style=\"color: #00af00; text-decoration-color: #00af00\">0</span> (0.00 B)\n",
              "</pre>\n"
            ]
          },
          "metadata": {}
        }
      ]
    },
    {
      "cell_type": "code",
      "source": [
        "# ================================\n",
        "# 8) Callbacks (buenoas prácticas)\n",
        "# ================================\n",
        "cbs = [\n",
        "    callbacks.EarlyStopping(monitor=\"val_auc\", mode=\"max\", patience=12, restore_best_weights=True),\n",
        "    callbacks.ModelCheckpoint(\"titanic_best.keras\", monitor=\"val_auc\", mode=\"max\", save_best_only=True),\n",
        "    callbacks.ReduceLROnPlateau(monitor=\"val_loss\", factor=0.5, patience=6)\n",
        "]"
      ],
      "metadata": {
        "id": "JpBGf8NpskzZ"
      },
      "execution_count": 10,
      "outputs": []
    },
    {
      "cell_type": "code",
      "source": [
        "# ====================\n",
        "# 9) Entrenamiento\n",
        "# ====================\n",
        "hist = model.fit(\n",
        "    X_train, y_train,\n",
        "    validation_split=0.2,\n",
        "    epochs=200,\n",
        "    batch_size=32,\n",
        "    callbacks=cbs,\n",
        "    verbose=1\n",
        ")"
      ],
      "metadata": {
        "colab": {
          "base_uri": "https://localhost:8080/"
        },
        "id": "lqp-6MfVsnnr",
        "outputId": "d54141db-704e-45a1-e219-143ab2d79886"
      },
      "execution_count": 11,
      "outputs": [
        {
          "output_type": "stream",
          "name": "stdout",
          "text": [
            "Epoch 1/200\n",
            "\u001b[1m18/18\u001b[0m \u001b[32m━━━━━━━━━━━━━━━━━━━━\u001b[0m\u001b[37m\u001b[0m \u001b[1m2s\u001b[0m 17ms/step - accuracy: 0.6287 - auc: 0.6226 - loss: 0.6580 - val_accuracy: 0.7203 - val_auc: 0.8051 - val_loss: 0.6112 - learning_rate: 0.0010\n",
            "Epoch 2/200\n",
            "\u001b[1m18/18\u001b[0m \u001b[32m━━━━━━━━━━━━━━━━━━━━\u001b[0m\u001b[37m\u001b[0m \u001b[1m0s\u001b[0m 6ms/step - accuracy: 0.6715 - auc: 0.7692 - loss: 0.5975 - val_accuracy: 0.7343 - val_auc: 0.8174 - val_loss: 0.5740 - learning_rate: 0.0010\n",
            "Epoch 3/200\n",
            "\u001b[1m18/18\u001b[0m \u001b[32m━━━━━━━━━━━━━━━━━━━━\u001b[0m\u001b[37m\u001b[0m \u001b[1m0s\u001b[0m 6ms/step - accuracy: 0.7544 - auc: 0.8328 - loss: 0.5389 - val_accuracy: 0.7622 - val_auc: 0.8288 - val_loss: 0.5429 - learning_rate: 0.0010\n",
            "Epoch 4/200\n",
            "\u001b[1m18/18\u001b[0m \u001b[32m━━━━━━━━━━━━━━━━━━━━\u001b[0m\u001b[37m\u001b[0m \u001b[1m0s\u001b[0m 6ms/step - accuracy: 0.7390 - auc: 0.8327 - loss: 0.5227 - val_accuracy: 0.7832 - val_auc: 0.8387 - val_loss: 0.5157 - learning_rate: 0.0010\n",
            "Epoch 5/200\n",
            "\u001b[1m18/18\u001b[0m \u001b[32m━━━━━━━━━━━━━━━━━━━━\u001b[0m\u001b[37m\u001b[0m \u001b[1m0s\u001b[0m 5ms/step - accuracy: 0.7794 - auc: 0.8433 - loss: 0.5019 - val_accuracy: 0.7832 - val_auc: 0.8439 - val_loss: 0.4912 - learning_rate: 0.0010\n",
            "Epoch 6/200\n",
            "\u001b[1m18/18\u001b[0m \u001b[32m━━━━━━━━━━━━━━━━━━━━\u001b[0m\u001b[37m\u001b[0m \u001b[1m0s\u001b[0m 5ms/step - accuracy: 0.8204 - auc: 0.8609 - loss: 0.4677 - val_accuracy: 0.8112 - val_auc: 0.8497 - val_loss: 0.4721 - learning_rate: 0.0010\n",
            "Epoch 7/200\n",
            "\u001b[1m18/18\u001b[0m \u001b[32m━━━━━━━━━━━━━━━━━━━━\u001b[0m\u001b[37m\u001b[0m \u001b[1m0s\u001b[0m 6ms/step - accuracy: 0.7985 - auc: 0.8617 - loss: 0.4565 - val_accuracy: 0.8112 - val_auc: 0.8535 - val_loss: 0.4600 - learning_rate: 0.0010\n",
            "Epoch 8/200\n",
            "\u001b[1m18/18\u001b[0m \u001b[32m━━━━━━━━━━━━━━━━━━━━\u001b[0m\u001b[37m\u001b[0m \u001b[1m0s\u001b[0m 5ms/step - accuracy: 0.8322 - auc: 0.8891 - loss: 0.4164 - val_accuracy: 0.8042 - val_auc: 0.8544 - val_loss: 0.4529 - learning_rate: 0.0010\n",
            "Epoch 9/200\n",
            "\u001b[1m18/18\u001b[0m \u001b[32m━━━━━━━━━━━━━━━━━━━━\u001b[0m\u001b[37m\u001b[0m \u001b[1m0s\u001b[0m 5ms/step - accuracy: 0.8395 - auc: 0.8832 - loss: 0.4204 - val_accuracy: 0.8252 - val_auc: 0.8558 - val_loss: 0.4477 - learning_rate: 0.0010\n",
            "Epoch 10/200\n",
            "\u001b[1m18/18\u001b[0m \u001b[32m━━━━━━━━━━━━━━━━━━━━\u001b[0m\u001b[37m\u001b[0m \u001b[1m0s\u001b[0m 4ms/step - accuracy: 0.8227 - auc: 0.8855 - loss: 0.4099 - val_accuracy: 0.8112 - val_auc: 0.8554 - val_loss: 0.4473 - learning_rate: 0.0010\n",
            "Epoch 11/200\n",
            "\u001b[1m18/18\u001b[0m \u001b[32m━━━━━━━━━━━━━━━━━━━━\u001b[0m\u001b[37m\u001b[0m \u001b[1m0s\u001b[0m 5ms/step - accuracy: 0.8213 - auc: 0.8930 - loss: 0.3953 - val_accuracy: 0.8112 - val_auc: 0.8547 - val_loss: 0.4469 - learning_rate: 0.0010\n",
            "Epoch 12/200\n",
            "\u001b[1m18/18\u001b[0m \u001b[32m━━━━━━━━━━━━━━━━━━━━\u001b[0m\u001b[37m\u001b[0m \u001b[1m0s\u001b[0m 5ms/step - accuracy: 0.8193 - auc: 0.8925 - loss: 0.3982 - val_accuracy: 0.8042 - val_auc: 0.8531 - val_loss: 0.4483 - learning_rate: 0.0010\n",
            "Epoch 13/200\n",
            "\u001b[1m18/18\u001b[0m \u001b[32m━━━━━━━━━━━━━━━━━━━━\u001b[0m\u001b[37m\u001b[0m \u001b[1m0s\u001b[0m 7ms/step - accuracy: 0.8337 - auc: 0.8937 - loss: 0.3898 - val_accuracy: 0.7972 - val_auc: 0.8537 - val_loss: 0.4494 - learning_rate: 0.0010\n",
            "Epoch 14/200\n",
            "\u001b[1m18/18\u001b[0m \u001b[32m━━━━━━━━━━━━━━━━━━━━\u001b[0m\u001b[37m\u001b[0m \u001b[1m0s\u001b[0m 4ms/step - accuracy: 0.8456 - auc: 0.8967 - loss: 0.3832 - val_accuracy: 0.8042 - val_auc: 0.8543 - val_loss: 0.4485 - learning_rate: 0.0010\n",
            "Epoch 15/200\n",
            "\u001b[1m18/18\u001b[0m \u001b[32m━━━━━━━━━━━━━━━━━━━━\u001b[0m\u001b[37m\u001b[0m \u001b[1m0s\u001b[0m 5ms/step - accuracy: 0.8322 - auc: 0.9009 - loss: 0.3781 - val_accuracy: 0.7972 - val_auc: 0.8523 - val_loss: 0.4502 - learning_rate: 0.0010\n",
            "Epoch 16/200\n",
            "\u001b[1m18/18\u001b[0m \u001b[32m━━━━━━━━━━━━━━━━━━━━\u001b[0m\u001b[37m\u001b[0m \u001b[1m0s\u001b[0m 4ms/step - accuracy: 0.8527 - auc: 0.8955 - loss: 0.3817 - val_accuracy: 0.7972 - val_auc: 0.8521 - val_loss: 0.4504 - learning_rate: 0.0010\n",
            "Epoch 17/200\n",
            "\u001b[1m18/18\u001b[0m \u001b[32m━━━━━━━━━━━━━━━━━━━━\u001b[0m\u001b[37m\u001b[0m \u001b[1m0s\u001b[0m 4ms/step - accuracy: 0.8329 - auc: 0.8907 - loss: 0.3886 - val_accuracy: 0.7972 - val_auc: 0.8535 - val_loss: 0.4467 - learning_rate: 0.0010\n",
            "Epoch 18/200\n",
            "\u001b[1m18/18\u001b[0m \u001b[32m━━━━━━━━━━━━━━━━━━━━\u001b[0m\u001b[37m\u001b[0m \u001b[1m0s\u001b[0m 5ms/step - accuracy: 0.8446 - auc: 0.8951 - loss: 0.3848 - val_accuracy: 0.7902 - val_auc: 0.8563 - val_loss: 0.4472 - learning_rate: 0.0010\n",
            "Epoch 19/200\n",
            "\u001b[1m18/18\u001b[0m \u001b[32m━━━━━━━━━━━━━━━━━━━━\u001b[0m\u001b[37m\u001b[0m \u001b[1m0s\u001b[0m 5ms/step - accuracy: 0.8386 - auc: 0.8980 - loss: 0.3803 - val_accuracy: 0.7972 - val_auc: 0.8573 - val_loss: 0.4495 - learning_rate: 0.0010\n",
            "Epoch 20/200\n",
            "\u001b[1m18/18\u001b[0m \u001b[32m━━━━━━━━━━━━━━━━━━━━\u001b[0m\u001b[37m\u001b[0m \u001b[1m0s\u001b[0m 5ms/step - accuracy: 0.8439 - auc: 0.9122 - loss: 0.3577 - val_accuracy: 0.7972 - val_auc: 0.8552 - val_loss: 0.4507 - learning_rate: 0.0010\n",
            "Epoch 21/200\n",
            "\u001b[1m18/18\u001b[0m \u001b[32m━━━━━━━━━━━━━━━━━━━━\u001b[0m\u001b[37m\u001b[0m \u001b[1m0s\u001b[0m 6ms/step - accuracy: 0.8484 - auc: 0.9060 - loss: 0.3647 - val_accuracy: 0.7972 - val_auc: 0.8545 - val_loss: 0.4518 - learning_rate: 0.0010\n",
            "Epoch 22/200\n",
            "\u001b[1m18/18\u001b[0m \u001b[32m━━━━━━━━━━━━━━━━━━━━\u001b[0m\u001b[37m\u001b[0m \u001b[1m0s\u001b[0m 4ms/step - accuracy: 0.8328 - auc: 0.9024 - loss: 0.3706 - val_accuracy: 0.7972 - val_auc: 0.8537 - val_loss: 0.4525 - learning_rate: 0.0010\n",
            "Epoch 23/200\n",
            "\u001b[1m18/18\u001b[0m \u001b[32m━━━━━━━━━━━━━━━━━━━━\u001b[0m\u001b[37m\u001b[0m \u001b[1m0s\u001b[0m 4ms/step - accuracy: 0.8506 - auc: 0.9028 - loss: 0.3738 - val_accuracy: 0.7972 - val_auc: 0.8544 - val_loss: 0.4510 - learning_rate: 0.0010\n",
            "Epoch 24/200\n",
            "\u001b[1m18/18\u001b[0m \u001b[32m━━━━━━━━━━━━━━━━━━━━\u001b[0m\u001b[37m\u001b[0m \u001b[1m0s\u001b[0m 5ms/step - accuracy: 0.8300 - auc: 0.9019 - loss: 0.3665 - val_accuracy: 0.7972 - val_auc: 0.8518 - val_loss: 0.4507 - learning_rate: 5.0000e-04\n",
            "Epoch 25/200\n",
            "\u001b[1m18/18\u001b[0m \u001b[32m━━━━━━━━━━━━━━━━━━━━\u001b[0m\u001b[37m\u001b[0m \u001b[1m0s\u001b[0m 4ms/step - accuracy: 0.8462 - auc: 0.9128 - loss: 0.3498 - val_accuracy: 0.7902 - val_auc: 0.8545 - val_loss: 0.4518 - learning_rate: 5.0000e-04\n",
            "Epoch 26/200\n",
            "\u001b[1m18/18\u001b[0m \u001b[32m━━━━━━━━━━━━━━━━━━━━\u001b[0m\u001b[37m\u001b[0m \u001b[1m0s\u001b[0m 4ms/step - accuracy: 0.8333 - auc: 0.9025 - loss: 0.3654 - val_accuracy: 0.7902 - val_auc: 0.8558 - val_loss: 0.4529 - learning_rate: 5.0000e-04\n",
            "Epoch 27/200\n",
            "\u001b[1m18/18\u001b[0m \u001b[32m━━━━━━━━━━━━━━━━━━━━\u001b[0m\u001b[37m\u001b[0m \u001b[1m0s\u001b[0m 6ms/step - accuracy: 0.8418 - auc: 0.9074 - loss: 0.3599 - val_accuracy: 0.7902 - val_auc: 0.8577 - val_loss: 0.4528 - learning_rate: 5.0000e-04\n",
            "Epoch 28/200\n",
            "\u001b[1m18/18\u001b[0m \u001b[32m━━━━━━━━━━━━━━━━━━━━\u001b[0m\u001b[37m\u001b[0m \u001b[1m0s\u001b[0m 5ms/step - accuracy: 0.8593 - auc: 0.9086 - loss: 0.3557 - val_accuracy: 0.7972 - val_auc: 0.8562 - val_loss: 0.4544 - learning_rate: 5.0000e-04\n",
            "Epoch 29/200\n",
            "\u001b[1m18/18\u001b[0m \u001b[32m━━━━━━━━━━━━━━━━━━━━\u001b[0m\u001b[37m\u001b[0m \u001b[1m0s\u001b[0m 5ms/step - accuracy: 0.8566 - auc: 0.9112 - loss: 0.3570 - val_accuracy: 0.7972 - val_auc: 0.8568 - val_loss: 0.4553 - learning_rate: 5.0000e-04\n",
            "Epoch 30/200\n",
            "\u001b[1m18/18\u001b[0m \u001b[32m━━━━━━━━━━━━━━━━━━━━\u001b[0m\u001b[37m\u001b[0m \u001b[1m0s\u001b[0m 6ms/step - accuracy: 0.8431 - auc: 0.9205 - loss: 0.3362 - val_accuracy: 0.7972 - val_auc: 0.8593 - val_loss: 0.4555 - learning_rate: 2.5000e-04\n",
            "Epoch 31/200\n",
            "\u001b[1m18/18\u001b[0m \u001b[32m━━━━━━━━━━━━━━━━━━━━\u001b[0m\u001b[37m\u001b[0m \u001b[1m0s\u001b[0m 4ms/step - accuracy: 0.8396 - auc: 0.9052 - loss: 0.3618 - val_accuracy: 0.7972 - val_auc: 0.8586 - val_loss: 0.4561 - learning_rate: 2.5000e-04\n",
            "Epoch 32/200\n",
            "\u001b[1m18/18\u001b[0m \u001b[32m━━━━━━━━━━━━━━━━━━━━\u001b[0m\u001b[37m\u001b[0m \u001b[1m0s\u001b[0m 4ms/step - accuracy: 0.8559 - auc: 0.9149 - loss: 0.3474 - val_accuracy: 0.7972 - val_auc: 0.8575 - val_loss: 0.4564 - learning_rate: 2.5000e-04\n",
            "Epoch 33/200\n",
            "\u001b[1m18/18\u001b[0m \u001b[32m━━━━━━━━━━━━━━━━━━━━\u001b[0m\u001b[37m\u001b[0m \u001b[1m0s\u001b[0m 6ms/step - accuracy: 0.8403 - auc: 0.9048 - loss: 0.3618 - val_accuracy: 0.7972 - val_auc: 0.8600 - val_loss: 0.4568 - learning_rate: 2.5000e-04\n",
            "Epoch 34/200\n",
            "\u001b[1m18/18\u001b[0m \u001b[32m━━━━━━━━━━━━━━━━━━━━\u001b[0m\u001b[37m\u001b[0m \u001b[1m0s\u001b[0m 5ms/step - accuracy: 0.8513 - auc: 0.9049 - loss: 0.3581 - val_accuracy: 0.7972 - val_auc: 0.8592 - val_loss: 0.4562 - learning_rate: 2.5000e-04\n",
            "Epoch 35/200\n",
            "\u001b[1m18/18\u001b[0m \u001b[32m━━━━━━━━━━━━━━━━━━━━\u001b[0m\u001b[37m\u001b[0m \u001b[1m0s\u001b[0m 4ms/step - accuracy: 0.8616 - auc: 0.9121 - loss: 0.3477 - val_accuracy: 0.7972 - val_auc: 0.8600 - val_loss: 0.4562 - learning_rate: 2.5000e-04\n",
            "Epoch 36/200\n",
            "\u001b[1m18/18\u001b[0m \u001b[32m━━━━━━━━━━━━━━━━━━━━\u001b[0m\u001b[37m\u001b[0m \u001b[1m0s\u001b[0m 5ms/step - accuracy: 0.8503 - auc: 0.9146 - loss: 0.3440 - val_accuracy: 0.7902 - val_auc: 0.8593 - val_loss: 0.4566 - learning_rate: 1.2500e-04\n",
            "Epoch 37/200\n",
            "\u001b[1m18/18\u001b[0m \u001b[32m━━━━━━━━━━━━━━━━━━━━\u001b[0m\u001b[37m\u001b[0m \u001b[1m0s\u001b[0m 4ms/step - accuracy: 0.8555 - auc: 0.9112 - loss: 0.3508 - val_accuracy: 0.7902 - val_auc: 0.8593 - val_loss: 0.4569 - learning_rate: 1.2500e-04\n",
            "Epoch 38/200\n",
            "\u001b[1m18/18\u001b[0m \u001b[32m━━━━━━━━━━━━━━━━━━━━\u001b[0m\u001b[37m\u001b[0m \u001b[1m0s\u001b[0m 6ms/step - accuracy: 0.8621 - auc: 0.9133 - loss: 0.3431 - val_accuracy: 0.7902 - val_auc: 0.8605 - val_loss: 0.4570 - learning_rate: 1.2500e-04\n",
            "Epoch 39/200\n",
            "\u001b[1m18/18\u001b[0m \u001b[32m━━━━━━━━━━━━━━━━━━━━\u001b[0m\u001b[37m\u001b[0m \u001b[1m0s\u001b[0m 4ms/step - accuracy: 0.8453 - auc: 0.9138 - loss: 0.3486 - val_accuracy: 0.7972 - val_auc: 0.8604 - val_loss: 0.4570 - learning_rate: 1.2500e-04\n",
            "Epoch 40/200\n",
            "\u001b[1m18/18\u001b[0m \u001b[32m━━━━━━━━━━━━━━━━━━━━\u001b[0m\u001b[37m\u001b[0m \u001b[1m0s\u001b[0m 5ms/step - accuracy: 0.8468 - auc: 0.9071 - loss: 0.3512 - val_accuracy: 0.7972 - val_auc: 0.8583 - val_loss: 0.4568 - learning_rate: 1.2500e-04\n",
            "Epoch 41/200\n",
            "\u001b[1m18/18\u001b[0m \u001b[32m━━━━━━━━━━━━━━━━━━━━\u001b[0m\u001b[37m\u001b[0m \u001b[1m0s\u001b[0m 5ms/step - accuracy: 0.8482 - auc: 0.9078 - loss: 0.3543 - val_accuracy: 0.7972 - val_auc: 0.8584 - val_loss: 0.4569 - learning_rate: 1.2500e-04\n",
            "Epoch 42/200\n",
            "\u001b[1m18/18\u001b[0m \u001b[32m━━━━━━━━━━━━━━━━━━━━\u001b[0m\u001b[37m\u001b[0m \u001b[1m0s\u001b[0m 5ms/step - accuracy: 0.8533 - auc: 0.9059 - loss: 0.3559 - val_accuracy: 0.7972 - val_auc: 0.8585 - val_loss: 0.4569 - learning_rate: 6.2500e-05\n",
            "Epoch 43/200\n",
            "\u001b[1m18/18\u001b[0m \u001b[32m━━━━━━━━━━━━━━━━━━━━\u001b[0m\u001b[37m\u001b[0m \u001b[1m0s\u001b[0m 5ms/step - accuracy: 0.8465 - auc: 0.9135 - loss: 0.3485 - val_accuracy: 0.7972 - val_auc: 0.8577 - val_loss: 0.4570 - learning_rate: 6.2500e-05\n",
            "Epoch 44/200\n",
            "\u001b[1m18/18\u001b[0m \u001b[32m━━━━━━━━━━━━━━━━━━━━\u001b[0m\u001b[37m\u001b[0m \u001b[1m0s\u001b[0m 5ms/step - accuracy: 0.8339 - auc: 0.9047 - loss: 0.3546 - val_accuracy: 0.7972 - val_auc: 0.8574 - val_loss: 0.4571 - learning_rate: 6.2500e-05\n",
            "Epoch 45/200\n",
            "\u001b[1m18/18\u001b[0m \u001b[32m━━━━━━━━━━━━━━━━━━━━\u001b[0m\u001b[37m\u001b[0m \u001b[1m0s\u001b[0m 5ms/step - accuracy: 0.8673 - auc: 0.9181 - loss: 0.3377 - val_accuracy: 0.7972 - val_auc: 0.8584 - val_loss: 0.4571 - learning_rate: 6.2500e-05\n",
            "Epoch 46/200\n",
            "\u001b[1m18/18\u001b[0m \u001b[32m━━━━━━━━━━━━━━━━━━━━\u001b[0m\u001b[37m\u001b[0m \u001b[1m0s\u001b[0m 4ms/step - accuracy: 0.8493 - auc: 0.9065 - loss: 0.3595 - val_accuracy: 0.7972 - val_auc: 0.8585 - val_loss: 0.4571 - learning_rate: 6.2500e-05\n",
            "Epoch 47/200\n",
            "\u001b[1m18/18\u001b[0m \u001b[32m━━━━━━━━━━━━━━━━━━━━\u001b[0m\u001b[37m\u001b[0m \u001b[1m0s\u001b[0m 4ms/step - accuracy: 0.8451 - auc: 0.9047 - loss: 0.3601 - val_accuracy: 0.7972 - val_auc: 0.8582 - val_loss: 0.4572 - learning_rate: 6.2500e-05\n",
            "Epoch 48/200\n",
            "\u001b[1m18/18\u001b[0m \u001b[32m━━━━━━━━━━━━━━━━━━━━\u001b[0m\u001b[37m\u001b[0m \u001b[1m0s\u001b[0m 5ms/step - accuracy: 0.8541 - auc: 0.9124 - loss: 0.3505 - val_accuracy: 0.7972 - val_auc: 0.8582 - val_loss: 0.4573 - learning_rate: 3.1250e-05\n",
            "Epoch 49/200\n",
            "\u001b[1m18/18\u001b[0m \u001b[32m━━━━━━━━━━━━━━━━━━━━\u001b[0m\u001b[37m\u001b[0m \u001b[1m0s\u001b[0m 4ms/step - accuracy: 0.8464 - auc: 0.9167 - loss: 0.3446 - val_accuracy: 0.7972 - val_auc: 0.8571 - val_loss: 0.4573 - learning_rate: 3.1250e-05\n",
            "Epoch 50/200\n",
            "\u001b[1m18/18\u001b[0m \u001b[32m━━━━━━━━━━━━━━━━━━━━\u001b[0m\u001b[37m\u001b[0m \u001b[1m0s\u001b[0m 4ms/step - accuracy: 0.8398 - auc: 0.9090 - loss: 0.3578 - val_accuracy: 0.7972 - val_auc: 0.8574 - val_loss: 0.4573 - learning_rate: 3.1250e-05\n"
          ]
        }
      ]
    },
    {
      "cell_type": "code",
      "source": [
        "# ==========================\n",
        "# 10) Evaluación  en test\n",
        "# ==========================\n",
        "y_proba = model.predict(X_test).ravel()\n",
        "y_pred = (y_proba > 0.5).astype(int)\n",
        "\n",
        "print(\"\\nMatriz de confusión:\\n\", confusion_matrix(y_test, y_pred))\n",
        "print(\"\\nReporte de clasificación:\\n\", classification_report(y_test, y_pred, digits=4))\n",
        "print(\"\\nAUC:\", roc_auc_score(y_test, y_proba))"
      ],
      "metadata": {
        "colab": {
          "base_uri": "https://localhost:8080/"
        },
        "id": "d0upN1Rysx-0",
        "outputId": "6b77d8af-1af7-4686-d44a-232838e0ca07"
      },
      "execution_count": 12,
      "outputs": [
        {
          "output_type": "stream",
          "name": "stdout",
          "text": [
            "\u001b[1m6/6\u001b[0m \u001b[32m━━━━━━━━━━━━━━━━━━━━\u001b[0m\u001b[37m\u001b[0m \u001b[1m0s\u001b[0m 8ms/step \n",
            "\n",
            "Matriz de confusión:\n",
            " [[100  10]\n",
            " [ 27  42]]\n",
            "\n",
            "Reporte de clasificación:\n",
            "               precision    recall  f1-score   support\n",
            "\n",
            "           0     0.7874    0.9091    0.8439       110\n",
            "           1     0.8077    0.6087    0.6942        69\n",
            "\n",
            "    accuracy                         0.7933       179\n",
            "   macro avg     0.7975    0.7589    0.7690       179\n",
            "weighted avg     0.7952    0.7933    0.7862       179\n",
            "\n",
            "\n",
            "AUC: 0.8482213438735178\n"
          ]
        }
      ]
    },
    {
      "cell_type": "code",
      "source": [
        "# =============================================================\n",
        "# 11) Inferencia robusta: función predict_one(dict de entrada)\n",
        "# =============================================================\n",
        "# Opcional: define una lista de columnas base para asegurar orden/consistencia\n",
        "base_cols = [\"Pclass\", \"Sex\", \"Age\", \"SibSp\", \"Parch\", \"Fare\", \"Embarked\"]\n",
        "\n",
        "def predict_one(sample: dict) -> float:\n",
        "    \"\"\"\n",
        "    Recibe un diccionario 'crudo' con las llaves esperadas:\n",
        "    Pclass, Sex, Age, SibSp, Parch, Fare, Embarked\n",
        "    (FamilySize e IsAlone se calculan internamente).\n",
        "    Devuelve la probabilidad de supervivencia (float entre 0 y 1).\n",
        "    \"\"\"\n",
        "    # 1) Validación rápida de llaves necesarias\n",
        "    faltantes = [k for k in base_cols if k not in sample]\n",
        "    if faltantes:\n",
        "        raise ValueError(f\"Faltan llaves en el sample: {faltantes}\")\n",
        "\n",
        "    # 2) DataFrame con las columnas base\n",
        "    s = pd.DataFrame([sample], columns=base_cols)\n",
        "\n",
        "    # 3) Feature engineering consistente con el train\n",
        "    s[\"FamilySize\"] = s[\"SibSp\"].fillna(0) + s[\"Parch\"].fillna(0) + 1\n",
        "    s[\"IsAlone\"] = (s[\"FamilySize\"] == 1).astype(int)\n",
        "\n",
        "    # 4) Aplicar EXACTAMENTE el mismo preprocesamiento\n",
        "    #    OJO: el ColumnTransformer fue entrenado con num_cols + cat_cols\n",
        "    #    Tener columnas extra no afecta; con remainder='drop' se ignoran.\n",
        "    s_proc = preprocessor.transform(s)  # <-- usar 'preprocessor' (no 'preprocess')\n",
        "    s_proc = s_proc.astype(\"float32\")\n",
        "\n",
        "    # 5) Predecir\n",
        "    proba = float(model.predict(s_proc, verbose=0).item())\n",
        "    return proba\n",
        "\n",
        "# Ejemplo de inferencia\n",
        "sample = {\n",
        "    \"Pclass\": 3,            # 1, 2 o 3\n",
        "    \"Sex\": \"male\",          # \"male\"/\"female\"\n",
        "    \"Age\": 22,\n",
        "    \"SibSp\": 1,\n",
        "    \"Parch\": 0,\n",
        "    \"Fare\": 7.25,\n",
        "    \"Embarked\": \"S\"         # \"S\", \"C\" o \"Q\"\n",
        "}\n",
        "proba = predict_one(sample)\n",
        "print(f\"\\nProbabilidad de sobrevivir (sample): {proba:.4f}\")\n",
        "print(\"Sobrevive\" if proba >= 0.5 else \"No sobrevive\")"
      ],
      "metadata": {
        "colab": {
          "base_uri": "https://localhost:8080/"
        },
        "id": "XLQq_vQds1Ac",
        "outputId": "0dc0efc0-ec78-4468-8ea0-be1ee3d3cec9"
      },
      "execution_count": 14,
      "outputs": [
        {
          "output_type": "stream",
          "name": "stdout",
          "text": [
            "\n",
            "Probabilidad de sobrevivir (sample): 0.1381\n",
            "No sobrevive\n"
          ]
        }
      ]
    }
  ]
}