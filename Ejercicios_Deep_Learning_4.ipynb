{
  "nbformat": 4,
  "nbformat_minor": 0,
  "metadata": {
    "colab": {
      "provenance": [],
      "authorship_tag": "ABX9TyPPFM2L5X5ylI7qMyA0rCA2",
      "include_colab_link": true
    },
    "kernelspec": {
      "name": "python3",
      "display_name": "Python 3"
    },
    "language_info": {
      "name": "python"
    }
  },
  "cells": [
    {
      "cell_type": "markdown",
      "metadata": {
        "id": "view-in-github",
        "colab_type": "text"
      },
      "source": [
        "<a href=\"https://colab.research.google.com/github/silvi3110/sis-252-inteligencia-artificial/blob/main/Ejercicios_Deep_Learning_4.ipynb\" target=\"_parent\"><img src=\"https://colab.research.google.com/assets/colab-badge.svg\" alt=\"Open In Colab\"/></a>"
      ]
    },
    {
      "cell_type": "code",
      "execution_count": 15,
      "metadata": {
        "colab": {
          "base_uri": "https://localhost:8080/"
        },
        "id": "kvDpBxeRkNzg",
        "outputId": "9112aa55-c7d8-4efd-9964-7dd8ced28484"
      },
      "outputs": [
        {
          "output_type": "stream",
          "name": "stdout",
          "text": [
            "Precisión en test: 0.8212180746561886\n",
            "\n",
            "Clases: ['Alto', 'Bajo', 'Medio']\n",
            "\n",
            "Reporte de clasificación:\n",
            "               precision    recall  f1-score   support\n",
            "\n",
            "           0       0.00      0.00      0.00        35\n",
            "           1       0.86      0.90      0.88      2430\n",
            "           2       0.73      0.67      0.70      1098\n",
            "\n",
            "    accuracy                           0.82      3563\n",
            "   macro avg       0.53      0.52      0.53      3563\n",
            "weighted avg       0.81      0.82      0.81      3563\n",
            "\n",
            "Matriz de confusión:\n",
            " [[   0    8   27]\n",
            " [   0 2192  238]\n",
            " [   1  363  734]]\n"
          ]
        }
      ],
      "source": [
        "# 1) Cargar y preparar\n",
        "import pandas as pd\n",
        "import numpy as np\n",
        "from sklearn.model_selection import train_test_split\n",
        "from sklearn.preprocessing import LabelEncoder, StandardScaler\n",
        "from sklearn.neural_network import MLPClassifier\n",
        "from sklearn.metrics import accuracy_score, classification_report, confusion_matrix\n",
        "\n",
        "df = pd.read_csv(\"anime.csv\")\n",
        "\n",
        "# 2) Limpieza básica\n",
        "df[\"type\"] = df[\"type\"].fillna(\"Unknown\")\n",
        "df[\"genre\"] = df[\"genre\"].fillna(\"Unknown\")\n",
        "df[\"episodes_num\"] = pd.to_numeric(df[\"episodes\"], errors=\"coerce\")\n",
        "df[\"members_num\"] = pd.to_numeric(df[\"members\"], errors=\"coerce\")\n",
        "df = df.dropna(subset=[\"episodes_num\", \"members_num\", \"rating\"])\n",
        "\n",
        "# 3) Ingeniería de variables (otras distintas a tu ejemplo)\n",
        "#   - codificamos 'type'\n",
        "le_type = LabelEncoder()\n",
        "df[\"type_encoded\"] = le_type.fit_transform(df[\"type\"])\n",
        "\n",
        "#   - tomamos SOLO el primer género (más simple y diferente a tu código)\n",
        "df[\"genre_first\"] = df[\"genre\"].str.split(\",\").str[0].str.strip()\n",
        "le_genre = LabelEncoder()\n",
        "df[\"genre_encoded\"] = le_genre.fit_transform(df[\"genre_first\"])\n",
        "\n",
        "#   - transformaciones numéricas diferentes\n",
        "df[\"episodes_sqrt\"] = np.sqrt(df[\"episodes_num\"])\n",
        "df[\"members_log\"] = np.log1p(df[\"members_num\"])\n",
        "\n",
        "# 4) Objetivo (clasificación por rating en 3 niveles)\n",
        "df[\"rating_category\"] = pd.cut(df[\"rating\"], bins=[-np.inf, 7.0, 8.5, np.inf],\n",
        "                               labels=[\"Bajo\", \"Medio\", \"Alto\"])\n",
        "df = df.dropna(subset=[\"rating_category\"])\n",
        "\n",
        "# 5) X, y (nuevas variables)\n",
        "X = df[[\"type_encoded\", \"genre_encoded\", \"episodes_sqrt\", \"members_log\"]].values\n",
        "y = df[\"rating_category\"].values\n",
        "\n",
        "# 6) Escalado y codificación de y\n",
        "scaler = StandardScaler()\n",
        "X = scaler.fit_transform(X)\n",
        "le_y = LabelEncoder()\n",
        "y = le_y.fit_transform(y)\n",
        "\n",
        "# 7) Split\n",
        "X_train, X_test, y_train, y_test = train_test_split(\n",
        "    X, y, test_size=0.30, random_state=42, stratify=y\n",
        ")\n",
        "\n",
        "# 8) Modelo (capas diferentes a tu ejemplo)\n",
        "mlp = MLPClassifier(hidden_layer_sizes=(32,16), activation=\"relu\",\n",
        "                    max_iter=2000, random_state=42)\n",
        "\n",
        "# 9) Entrenamiento\n",
        "mlp.fit(X_train, y_train)\n",
        "\n",
        "# 10) Evaluación\n",
        "y_pred = mlp.predict(X_test)\n",
        "print(\"Precisión en test:\", accuracy_score(y_test, y_pred))\n",
        "print(\"\\nClases:\", list(le_y.classes_))\n",
        "print(\"\\nReporte de clasificación:\\n\", classification_report(y_test, y_pred, zero_division=0))\n",
        "print(\"Matriz de confusión:\\n\", confusion_matrix(y_test, y_pred))"
      ]
    }
  ]
}