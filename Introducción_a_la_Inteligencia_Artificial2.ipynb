{
  "nbformat": 4,
  "nbformat_minor": 0,
  "metadata": {
    "colab": {
      "provenance": [],
      "authorship_tag": "ABX9TyMTMfBjGLeFhJxarO06mt3M",
      "include_colab_link": true
    },
    "kernelspec": {
      "name": "python3",
      "display_name": "Python 3"
    },
    "language_info": {
      "name": "python"
    }
  },
  "cells": [
    {
      "cell_type": "markdown",
      "metadata": {
        "id": "view-in-github",
        "colab_type": "text"
      },
      "source": [
        "<a href=\"https://colab.research.google.com/github/silvi3110/sis-252-inteligencia-artificial/blob/main/Introducci%C3%B3n_a_la_Inteligencia_Artificial2.ipynb\" target=\"_parent\"><img src=\"https://colab.research.google.com/assets/colab-badge.svg\" alt=\"Open In Colab\"/></a>"
      ]
    },
    {
      "cell_type": "code",
      "execution_count": null,
      "metadata": {
        "colab": {
          "base_uri": "https://localhost:8080/"
        },
        "id": "64y_Oje3KQRg",
        "outputId": "2d9c7e75-33a4-448f-e421-f09daf8702cd"
      },
      "outputs": [
        {
          "output_type": "stream",
          "name": "stdout",
          "text": [
            "Paciente 1: Posible gripe\n",
            "Paciente 2: Posible resfriado común\n",
            "Paciente 3: Posible intoxicación alimentaria\n"
          ]
        }
      ],
      "source": [
        "# Ejemplo de Enfoque Simbólico (GOFAI)\n",
        "# Sistema experto médico básico con reglas lógicas explícitas\n",
        "\n",
        "def diagnosticar(sintomas):\n",
        "  if \"fiebre\" in sintomas and \"tos\" in sintomas and \"dolor_garganta\" in sintomas:\n",
        "    return \"Posible gripe\"\n",
        "  elif \"fiebre\" in sintomas and \"dolor_cabeza\" in sintomas and \"rigidez_cuello\" in sintomas:\n",
        "    return \"Posible meningitis\"\n",
        "  elif \"estornudos\" in sintomas and \"congestion\" in sintomas:\n",
        "    return \"Posible resfriado común\"\n",
        "  elif \"dolor_estomago\" in sintomas and \"nauseas\" in sintomas:\n",
        "    return \"Posible intoxicación alimentaria\"\n",
        "  else:\n",
        "    return \"Diágnostico no determinado\"\n",
        "\n",
        "paciente_1 = [\"fiebre\", \"tos\", \"dolor_garganta\"]\n",
        "paciente_2 = [\"estornudos\", \"congestion\"]\n",
        "paciente_3 = [\"dolor_estomago\", \"nauseas\"]\n",
        "\n",
        "print(\"Paciente 1:\", diagnosticar(paciente_1))\n",
        "print(\"Paciente 2:\", diagnosticar(paciente_2))\n",
        "print(\"Paciente 3:\", diagnosticar(paciente_3))"
      ]
    },
    {
      "cell_type": "code",
      "source": [
        "# Clasificación con Naive (GaussianNB) en el dataset Breast Cancer\n",
        "from sklearn.datasets import load_breast_cancer\n",
        "from sklearn.model_selection import train_test_split\n",
        "from sklearn.naive_bayes import GaussianNB\n",
        "from sklearn.metrics import accuracy_score, classification_report, confusion_matrix\n",
        "\n",
        "X, y = load_breast_cancer(return_X_y=True)\n",
        "\n",
        "X_train, X_test, y_train, y_test = train_test_split(\n",
        "    X, y, test_size=0.25, random_state=42, stratify=y\n",
        ")\n",
        "\n",
        "nb = GaussianNB()\n",
        "nb.fit(X_train, y_train)\n",
        "\n",
        "y_pred_nb = nb.predict (X_test)\n",
        "print(\"Naive Bayes - accuracy:\", accuracy_score (y_test, y_pred_nb))\n",
        "print(confusion_matrix (y_test, y_pred_nb))\n",
        "print(classification_report (y_test, y_pred_nb))"
      ],
      "metadata": {
        "colab": {
          "base_uri": "https://localhost:8080/"
        },
        "id": "g317bkqaNwc1",
        "outputId": "31a610b3-3f19-4e98-e1f5-eb3430f1e154"
      },
      "execution_count": null,
      "outputs": [
        {
          "output_type": "stream",
          "name": "stdout",
          "text": [
            "Naive Bayes - accuracy: 0.9370629370629371\n",
            "[[46  7]\n",
            " [ 2 88]]\n",
            "              precision    recall  f1-score   support\n",
            "\n",
            "           0       0.96      0.87      0.91        53\n",
            "           1       0.93      0.98      0.95        90\n",
            "\n",
            "    accuracy                           0.94       143\n",
            "   macro avg       0.94      0.92      0.93       143\n",
            "weighted avg       0.94      0.94      0.94       143\n",
            "\n"
          ]
        }
      ]
    },
    {
      "cell_type": "code",
      "source": [
        "# Clasificación con Red Neuronal (MPL) en el mismo dataset\n",
        "from sklearn.neural_network import MLPClassifier\n",
        "from sklearn.preprocessing import StandardScaler\n",
        "from sklearn.pipeline import make_pipeline\n",
        "\n",
        "mlp = make_pipeline(\n",
        "    StandardScaler(),\n",
        "    MLPClassifier(hidden_layer_sizes=(32, 16), # 2 capas densas pequeñas\n",
        "                  activation=\"relu\",\n",
        "                  solver=\"adam\",\n",
        "                  max_iter=500,\n",
        "                  random_state=42)\n",
        ")\n",
        "\n",
        "mlp.fit(X_train, y_train)\n",
        "y_pred_mlp = mlp.predict(X_test)\n",
        "\n",
        "print(\"MPL - accuracy:\", accuracy_score(y_test, y_pred_mlp))\n",
        "print(confusion_matrix(y_test, y_pred_mlp))\n",
        "print(classification_report(y_test, y_pred_mlp))"
      ],
      "metadata": {
        "colab": {
          "base_uri": "https://localhost:8080/"
        },
        "id": "94R8jlvyQKXb",
        "outputId": "72bc40d2-3413-4d2a-ba26-ecdeff5bda27"
      },
      "execution_count": null,
      "outputs": [
        {
          "output_type": "stream",
          "name": "stdout",
          "text": [
            "MPL - accuracy: 0.965034965034965\n",
            "[[52  1]\n",
            " [ 4 86]]\n",
            "              precision    recall  f1-score   support\n",
            "\n",
            "           0       0.93      0.98      0.95        53\n",
            "           1       0.99      0.96      0.97        90\n",
            "\n",
            "    accuracy                           0.97       143\n",
            "   macro avg       0.96      0.97      0.96       143\n",
            "weighted avg       0.97      0.97      0.97       143\n",
            "\n"
          ]
        }
      ]
    },
    {
      "cell_type": "code",
      "source": [
        "# Programación Genética\n",
        "!pip install deap --quiet\n",
        "\n",
        "import operator, random\n",
        "import numpy as np\n",
        "from deap import base, creator, tools, gp\n",
        "from sklearn.datasets import load_breast_cancer\n",
        "from sklearn.model_selection import train_test_split\n",
        "from sklearn.metrics import accuracy_score\n",
        "\n",
        "# 1) Dataset real\n",
        "X, y = load_breast_cancer(return_X_y=True)\n",
        "X_train, X_test, y_train, y_test = train_test_split(X, y, test_size=0.25, random_state=42, stratify=y)\n",
        "\n",
        "# 2) Definición de operadores básicos\n",
        "pset = gp.PrimitiveSet(\"MAIN\",  X.shape[1])\n",
        "pset.addPrimitive(operator.add, 2)\n",
        "pset.addPrimitive(operator.sub, 2)\n",
        "pset.addPrimitive(operator.mul, 2)\n",
        "pset.addPrimitive(operator.neg, 1)\n",
        "pset.addPrimitive(np.sin, 1)\n",
        "pset.addPrimitive(np.cos, 1)\n",
        "pset.addEphemeralConstant(\"rand\", lambda: random.randint(-1,1))\n",
        "\n",
        "# 3) Definición de tipos de individuo y fitness\n",
        "creator.create(\"FitnessMax\", base.Fitness, weights=(1.0,))\n",
        "creator.create(\"Individual\", gp.PrimitiveTree, fitness = creator.FitnessMax)\n",
        "\n",
        "toolbox = base.Toolbox()\n",
        "toolbox.register(\"expr\", gp.genHalfAndHalf, pset=pset, min_=1, max_=2)\n",
        "toolbox.register(\"individual\", tools.initIterate, creator.Individual, toolbox.expr)\n",
        "toolbox.register(\"population\", tools.initRepeat, list, toolbox.individual)\n",
        "\n",
        "# 4) Evaluación: usamos accuracy como fitness\n",
        "def eval_individual(individual):\n",
        "  func = toolbox.compile(expr=individual)\n",
        "  preds = [1 if func(*x) > 0 else 0 for x in X_train]\n",
        "  return accuracy_score(y_train, preds),\n",
        "\n",
        "toolbox.register(\"compile\", gp.compile, pset=pset)\n",
        "toolbox.register(\"evaluate\", eval_individual)\n",
        "toolbox.register(\"mate\", gp.cxOnePoint)\n",
        "toolbox.register(\"mutate\", gp.mutUniform, expr=toolbox.expr, pset=pset)\n",
        "toolbox.register(\"select\", tools.selTournament, tournsize=3)\n",
        "\n",
        "# 5) Evolución\n",
        "pop = toolbox.population(n=50)\n",
        "for gen in range(10):\n",
        "  offspring = tools.selTournament(pop, len(pop), tournsize=3)\n",
        "  offspring = list(map(toolbox.clone, offspring))\n",
        "  for child1, child2 in zip(offspring[::2], offspring[1::2]):\n",
        "    if random.random() < 0.5:\n",
        "        toolbox.mate(child1, child2)\n",
        "  for mutant in offspring:\n",
        "    if random.random() < 0.2:\n",
        "        toolbox.mutate(mutant)\n",
        "  for ind in offspring:\n",
        "      ind.fitness.values = toolbox.evaluate(ind)\n",
        "  pop[:] = offspring\n",
        "  print(f\"Generación {gen+1}: Mejor fitness = {max(ind.fitness.values[0] for ind in pop)}\")\n",
        "\n",
        "# 6) Mejor individuo y prueba\n",
        "best_ind = tools.selBest(pop, 1)[0]\n",
        "func_best = toolbox.compile(expr=best_ind)\n",
        "y_pred = [1 if func_best(*x) > 0 else 0 for x in X_test]\n",
        "print(\"\\nAccury en test:\", accuracy_score(y_test, y_pred))\n",
        "print(\"\\Mejor fórmula encontrada:\", best_ind)"
      ],
      "metadata": {
        "colab": {
          "base_uri": "https://localhost:8080/"
        },
        "id": "F55qq9xJTnTQ",
        "outputId": "a41aeab9-4826-4ca4-8d8d-82855605f9a5"
      },
      "execution_count": null,
      "outputs": [
        {
          "output_type": "stream",
          "name": "stderr",
          "text": [
            "/usr/local/lib/python3.11/dist-packages/deap/gp.py:257: RuntimeWarning: Ephemeral rand function cannot be pickled because its generating function is a lambda function. Use functools.partial instead.\n",
            "  warnings.warn(\"Ephemeral {name} function cannot be \"\n",
            "/usr/local/lib/python3.11/dist-packages/deap/creator.py:185: RuntimeWarning: A class named 'FitnessMax' has already been created and it will be overwritten. Consider deleting previous creation of that class or rename it.\n",
            "  warnings.warn(\"A class named '{0}' has already been created and it \"\n",
            "/usr/local/lib/python3.11/dist-packages/deap/creator.py:185: RuntimeWarning: A class named 'Individual' has already been created and it will be overwritten. Consider deleting previous creation of that class or rename it.\n",
            "  warnings.warn(\"A class named '{0}' has already been created and it \"\n"
          ]
        },
        {
          "output_type": "stream",
          "name": "stdout",
          "text": [
            "Generación 1: Mejor fitness = 0.6291079812206573\n",
            "Generación 2: Mejor fitness = 0.6408450704225352\n",
            "Generación 3: Mejor fitness = 0.6502347417840375\n",
            "Generación 4: Mejor fitness = 0.6502347417840375\n",
            "Generación 5: Mejor fitness = 0.8028169014084507\n",
            "Generación 6: Mejor fitness = 0.8028169014084507\n",
            "Generación 7: Mejor fitness = 0.8028169014084507\n",
            "Generación 8: Mejor fitness = 0.812206572769953\n",
            "Generación 9: Mejor fitness = 0.812206572769953\n",
            "Generación 10: Mejor fitness = 0.812206572769953\n",
            "\n",
            "Accury en test: 0.8461538461538461\n",
            "\\Mejor fórmula encontrada: sub(sub(ARG28, sin(ARG26)), ARG15)\n"
          ]
        }
      ]
    }
  ]
}