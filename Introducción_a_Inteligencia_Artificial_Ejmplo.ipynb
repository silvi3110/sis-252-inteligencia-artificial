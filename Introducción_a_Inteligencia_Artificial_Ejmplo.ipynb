{
  "nbformat": 4,
  "nbformat_minor": 0,
  "metadata": {
    "colab": {
      "provenance": [],
      "authorship_tag": "ABX9TyP3bh61X2goq5vfxTtAJuS6",
      "include_colab_link": true
    },
    "kernelspec": {
      "name": "python3",
      "display_name": "Python 3"
    },
    "language_info": {
      "name": "python"
    }
  },
  "cells": [
    {
      "cell_type": "markdown",
      "metadata": {
        "id": "view-in-github",
        "colab_type": "text"
      },
      "source": [
        "<a href=\"https://colab.research.google.com/github/silvi3110/sis-252-inteligencia-artificial/blob/main/Introducci%C3%B3n_a_Inteligencia_Artificial_Ejmplo.ipynb\" target=\"_parent\"><img src=\"https://colab.research.google.com/assets/colab-badge.svg\" alt=\"Open In Colab\"/></a>"
      ]
    },
    {
      "cell_type": "code",
      "execution_count": null,
      "metadata": {
        "colab": {
          "base_uri": "https://localhost:8080/"
        },
        "id": "Re1XvTAJezWF",
        "outputId": "b9a1cf64-7c57-49bd-edb7-6f135936f2db"
      },
      "outputs": [
        {
          "output_type": "stream",
          "name": "stdout",
          "text": [
            "Contratado\n",
            "No contratado\n"
          ]
        }
      ],
      "source": [
        "# Ejemplo de sesgo en datos de entrenamiento\n",
        "\n",
        "# Datos ficticios: (años de experiencia, género, contratado: 1 = sí, 0 = no)\n",
        "# Notas: \"M\" = masculino, \"F\" = femenino\n",
        "datos = [\n",
        "    (5, \"M\", 1),\n",
        "    (4, \"M\", 1),\n",
        "    (6, \"M\", 0),\n",
        "    (5, \"F\", 0),\n",
        "    (4, \"F\", 0),\n",
        "    (6, \"F\", 0),\n",
        "]\n",
        "\n",
        "# Función simple para decidir si contratar (muy básica y sasgada)\n",
        "def decidir_contratacion(anios_exp, genero):\n",
        "  # Se entrena con datos en los que siempre se contrató a hombres\n",
        "  if genero == \"M\" and anios_exp > 4:\n",
        "    return \"Contratado\"\n",
        "  else:\n",
        "    return \"No contratado\"\n",
        "\n",
        "# Probamos con dos candidatos idénticos pero distinto género\n",
        "print(decidir_contratacion(5, \"M\"))  # Contratado\n",
        "print(decidir_contratacion(5, \"F\"))  # No contratado"
      ]
    }
  ]
}